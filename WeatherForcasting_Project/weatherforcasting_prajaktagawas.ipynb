{
 "cells": [
  {
   "cell_type": "markdown",
   "id": "7fdef58c",
   "metadata": {},
   "source": [
    "# Project on weatherforcasting :- Classification"
   ]
  },
  {
   "cell_type": "markdown",
   "id": "bda328cf",
   "metadata": {},
   "source": [
    " Loading the Crop Train and Test datasets"
   ]
  },
  {
   "cell_type": "code",
   "execution_count": 1,
   "id": "b39e84c5",
   "metadata": {},
   "outputs": [],
   "source": [
    "import pandas as pd\n",
    "import seaborn as sns\n",
    "import matplotlib.pyplot as plt\n",
    "import warnings\n",
    "warnings.filterwarnings(\"ignore\")"
   ]
  },
  {
   "cell_type": "code",
   "execution_count": 2,
   "id": "0eba1837",
   "metadata": {},
   "outputs": [],
   "source": [
    "df = pd.read_csv(\"D:\\project\\WeatherForcasting\\weatherHistory.csv\")"
   ]
  },
  {
   "cell_type": "code",
   "execution_count": 3,
   "id": "1dca0a3b",
   "metadata": {},
   "outputs": [
    {
     "data": {
      "text/html": [
       "<div>\n",
       "<style scoped>\n",
       "    .dataframe tbody tr th:only-of-type {\n",
       "        vertical-align: middle;\n",
       "    }\n",
       "\n",
       "    .dataframe tbody tr th {\n",
       "        vertical-align: top;\n",
       "    }\n",
       "\n",
       "    .dataframe thead th {\n",
       "        text-align: right;\n",
       "    }\n",
       "</style>\n",
       "<table border=\"1\" class=\"dataframe\">\n",
       "  <thead>\n",
       "    <tr style=\"text-align: right;\">\n",
       "      <th></th>\n",
       "      <th>Formatted Date</th>\n",
       "      <th>Summary</th>\n",
       "      <th>Precip Type</th>\n",
       "      <th>Temperature (C)</th>\n",
       "      <th>Apparent Temperature (C)</th>\n",
       "      <th>Humidity</th>\n",
       "      <th>Wind Speed (km/h)</th>\n",
       "      <th>Wind Bearing (degrees)</th>\n",
       "      <th>Visibility (km)</th>\n",
       "      <th>Loud Cover</th>\n",
       "      <th>Pressure (millibars)</th>\n",
       "      <th>Daily Summary</th>\n",
       "    </tr>\n",
       "  </thead>\n",
       "  <tbody>\n",
       "    <tr>\n",
       "      <th>0</th>\n",
       "      <td>2006-04-01 00:00:00.000 +0200</td>\n",
       "      <td>Partly Cloudy</td>\n",
       "      <td>rain</td>\n",
       "      <td>9.472222</td>\n",
       "      <td>7.388889</td>\n",
       "      <td>0.89</td>\n",
       "      <td>14.1197</td>\n",
       "      <td>251.0</td>\n",
       "      <td>15.8263</td>\n",
       "      <td>0.0</td>\n",
       "      <td>1015.13</td>\n",
       "      <td>Partly cloudy throughout the day.</td>\n",
       "    </tr>\n",
       "    <tr>\n",
       "      <th>1</th>\n",
       "      <td>2006-04-01 01:00:00.000 +0200</td>\n",
       "      <td>Partly Cloudy</td>\n",
       "      <td>rain</td>\n",
       "      <td>9.355556</td>\n",
       "      <td>7.227778</td>\n",
       "      <td>0.86</td>\n",
       "      <td>14.2646</td>\n",
       "      <td>259.0</td>\n",
       "      <td>15.8263</td>\n",
       "      <td>0.0</td>\n",
       "      <td>1015.63</td>\n",
       "      <td>Partly cloudy throughout the day.</td>\n",
       "    </tr>\n",
       "    <tr>\n",
       "      <th>2</th>\n",
       "      <td>2006-04-01 02:00:00.000 +0200</td>\n",
       "      <td>Mostly Cloudy</td>\n",
       "      <td>rain</td>\n",
       "      <td>9.377778</td>\n",
       "      <td>9.377778</td>\n",
       "      <td>0.89</td>\n",
       "      <td>3.9284</td>\n",
       "      <td>204.0</td>\n",
       "      <td>14.9569</td>\n",
       "      <td>0.0</td>\n",
       "      <td>1015.94</td>\n",
       "      <td>Partly cloudy throughout the day.</td>\n",
       "    </tr>\n",
       "    <tr>\n",
       "      <th>3</th>\n",
       "      <td>2006-04-01 03:00:00.000 +0200</td>\n",
       "      <td>Partly Cloudy</td>\n",
       "      <td>rain</td>\n",
       "      <td>8.288889</td>\n",
       "      <td>5.944444</td>\n",
       "      <td>0.83</td>\n",
       "      <td>14.1036</td>\n",
       "      <td>269.0</td>\n",
       "      <td>15.8263</td>\n",
       "      <td>0.0</td>\n",
       "      <td>1016.41</td>\n",
       "      <td>Partly cloudy throughout the day.</td>\n",
       "    </tr>\n",
       "    <tr>\n",
       "      <th>4</th>\n",
       "      <td>2006-04-01 04:00:00.000 +0200</td>\n",
       "      <td>Mostly Cloudy</td>\n",
       "      <td>rain</td>\n",
       "      <td>8.755556</td>\n",
       "      <td>6.977778</td>\n",
       "      <td>0.83</td>\n",
       "      <td>11.0446</td>\n",
       "      <td>259.0</td>\n",
       "      <td>15.8263</td>\n",
       "      <td>0.0</td>\n",
       "      <td>1016.51</td>\n",
       "      <td>Partly cloudy throughout the day.</td>\n",
       "    </tr>\n",
       "  </tbody>\n",
       "</table>\n",
       "</div>"
      ],
      "text/plain": [
       "                  Formatted Date        Summary Precip Type  Temperature (C)   \n",
       "0  2006-04-01 00:00:00.000 +0200  Partly Cloudy        rain         9.472222  \\\n",
       "1  2006-04-01 01:00:00.000 +0200  Partly Cloudy        rain         9.355556   \n",
       "2  2006-04-01 02:00:00.000 +0200  Mostly Cloudy        rain         9.377778   \n",
       "3  2006-04-01 03:00:00.000 +0200  Partly Cloudy        rain         8.288889   \n",
       "4  2006-04-01 04:00:00.000 +0200  Mostly Cloudy        rain         8.755556   \n",
       "\n",
       "   Apparent Temperature (C)  Humidity  Wind Speed (km/h)   \n",
       "0                  7.388889      0.89            14.1197  \\\n",
       "1                  7.227778      0.86            14.2646   \n",
       "2                  9.377778      0.89             3.9284   \n",
       "3                  5.944444      0.83            14.1036   \n",
       "4                  6.977778      0.83            11.0446   \n",
       "\n",
       "   Wind Bearing (degrees)  Visibility (km)  Loud Cover  Pressure (millibars)   \n",
       "0                   251.0          15.8263         0.0               1015.13  \\\n",
       "1                   259.0          15.8263         0.0               1015.63   \n",
       "2                   204.0          14.9569         0.0               1015.94   \n",
       "3                   269.0          15.8263         0.0               1016.41   \n",
       "4                   259.0          15.8263         0.0               1016.51   \n",
       "\n",
       "                       Daily Summary  \n",
       "0  Partly cloudy throughout the day.  \n",
       "1  Partly cloudy throughout the day.  \n",
       "2  Partly cloudy throughout the day.  \n",
       "3  Partly cloudy throughout the day.  \n",
       "4  Partly cloudy throughout the day.  "
      ]
     },
     "execution_count": 3,
     "metadata": {},
     "output_type": "execute_result"
    }
   ],
   "source": [
    "df.head()"
   ]
  },
  {
   "cell_type": "code",
   "execution_count": 4,
   "id": "dd194120",
   "metadata": {},
   "outputs": [
    {
     "data": {
      "text/plain": [
       "(96453, 12)"
      ]
     },
     "execution_count": 4,
     "metadata": {},
     "output_type": "execute_result"
    }
   ],
   "source": [
    "df.shape"
   ]
  },
  {
   "cell_type": "markdown",
   "id": "675ed08b",
   "metadata": {},
   "source": [
    "# Data Cleaning Model bulding¶\n",
    "Identifying the column datatypes and Droping the unneccesary columns"
   ]
  },
  {
   "cell_type": "code",
   "execution_count": 5,
   "id": "c295989b",
   "metadata": {},
   "outputs": [
    {
     "name": "stdout",
     "output_type": "stream",
     "text": [
      "<class 'pandas.core.frame.DataFrame'>\n",
      "RangeIndex: 96453 entries, 0 to 96452\n",
      "Data columns (total 12 columns):\n",
      " #   Column                    Non-Null Count  Dtype  \n",
      "---  ------                    --------------  -----  \n",
      " 0   Formatted Date            96453 non-null  object \n",
      " 1   Summary                   96453 non-null  object \n",
      " 2   Precip Type               95936 non-null  object \n",
      " 3   Temperature (C)           96453 non-null  float64\n",
      " 4   Apparent Temperature (C)  96453 non-null  float64\n",
      " 5   Humidity                  96453 non-null  float64\n",
      " 6   Wind Speed (km/h)         96453 non-null  float64\n",
      " 7   Wind Bearing (degrees)    96453 non-null  float64\n",
      " 8   Visibility (km)           96453 non-null  float64\n",
      " 9   Loud Cover                96453 non-null  float64\n",
      " 10  Pressure (millibars)      96453 non-null  float64\n",
      " 11  Daily Summary             96453 non-null  object \n",
      "dtypes: float64(8), object(4)\n",
      "memory usage: 8.8+ MB\n"
     ]
    }
   ],
   "source": [
    "df.info()"
   ]
  },
  {
   "cell_type": "code",
   "execution_count": 6,
   "id": "75973eae",
   "metadata": {},
   "outputs": [
    {
     "data": {
      "text/html": [
       "<div>\n",
       "<style scoped>\n",
       "    .dataframe tbody tr th:only-of-type {\n",
       "        vertical-align: middle;\n",
       "    }\n",
       "\n",
       "    .dataframe tbody tr th {\n",
       "        vertical-align: top;\n",
       "    }\n",
       "\n",
       "    .dataframe thead th {\n",
       "        text-align: right;\n",
       "    }\n",
       "</style>\n",
       "<table border=\"1\" class=\"dataframe\">\n",
       "  <thead>\n",
       "    <tr style=\"text-align: right;\">\n",
       "      <th></th>\n",
       "      <th>Temperature (C)</th>\n",
       "      <th>Apparent Temperature (C)</th>\n",
       "      <th>Humidity</th>\n",
       "      <th>Wind Speed (km/h)</th>\n",
       "      <th>Wind Bearing (degrees)</th>\n",
       "      <th>Visibility (km)</th>\n",
       "      <th>Loud Cover</th>\n",
       "      <th>Pressure (millibars)</th>\n",
       "    </tr>\n",
       "  </thead>\n",
       "  <tbody>\n",
       "    <tr>\n",
       "      <th>count</th>\n",
       "      <td>96453.000000</td>\n",
       "      <td>96453.000000</td>\n",
       "      <td>96453.000000</td>\n",
       "      <td>96453.000000</td>\n",
       "      <td>96453.000000</td>\n",
       "      <td>96453.000000</td>\n",
       "      <td>96453.0</td>\n",
       "      <td>96453.000000</td>\n",
       "    </tr>\n",
       "    <tr>\n",
       "      <th>mean</th>\n",
       "      <td>11.932678</td>\n",
       "      <td>10.855029</td>\n",
       "      <td>0.734899</td>\n",
       "      <td>10.810640</td>\n",
       "      <td>187.509232</td>\n",
       "      <td>10.347325</td>\n",
       "      <td>0.0</td>\n",
       "      <td>1003.235956</td>\n",
       "    </tr>\n",
       "    <tr>\n",
       "      <th>std</th>\n",
       "      <td>9.551546</td>\n",
       "      <td>10.696847</td>\n",
       "      <td>0.195473</td>\n",
       "      <td>6.913571</td>\n",
       "      <td>107.383428</td>\n",
       "      <td>4.192123</td>\n",
       "      <td>0.0</td>\n",
       "      <td>116.969906</td>\n",
       "    </tr>\n",
       "    <tr>\n",
       "      <th>min</th>\n",
       "      <td>-21.822222</td>\n",
       "      <td>-27.716667</td>\n",
       "      <td>0.000000</td>\n",
       "      <td>0.000000</td>\n",
       "      <td>0.000000</td>\n",
       "      <td>0.000000</td>\n",
       "      <td>0.0</td>\n",
       "      <td>0.000000</td>\n",
       "    </tr>\n",
       "    <tr>\n",
       "      <th>25%</th>\n",
       "      <td>4.688889</td>\n",
       "      <td>2.311111</td>\n",
       "      <td>0.600000</td>\n",
       "      <td>5.828200</td>\n",
       "      <td>116.000000</td>\n",
       "      <td>8.339800</td>\n",
       "      <td>0.0</td>\n",
       "      <td>1011.900000</td>\n",
       "    </tr>\n",
       "    <tr>\n",
       "      <th>50%</th>\n",
       "      <td>12.000000</td>\n",
       "      <td>12.000000</td>\n",
       "      <td>0.780000</td>\n",
       "      <td>9.965900</td>\n",
       "      <td>180.000000</td>\n",
       "      <td>10.046400</td>\n",
       "      <td>0.0</td>\n",
       "      <td>1016.450000</td>\n",
       "    </tr>\n",
       "    <tr>\n",
       "      <th>75%</th>\n",
       "      <td>18.838889</td>\n",
       "      <td>18.838889</td>\n",
       "      <td>0.890000</td>\n",
       "      <td>14.135800</td>\n",
       "      <td>290.000000</td>\n",
       "      <td>14.812000</td>\n",
       "      <td>0.0</td>\n",
       "      <td>1021.090000</td>\n",
       "    </tr>\n",
       "    <tr>\n",
       "      <th>max</th>\n",
       "      <td>39.905556</td>\n",
       "      <td>39.344444</td>\n",
       "      <td>1.000000</td>\n",
       "      <td>63.852600</td>\n",
       "      <td>359.000000</td>\n",
       "      <td>16.100000</td>\n",
       "      <td>0.0</td>\n",
       "      <td>1046.380000</td>\n",
       "    </tr>\n",
       "  </tbody>\n",
       "</table>\n",
       "</div>"
      ],
      "text/plain": [
       "       Temperature (C)  Apparent Temperature (C)      Humidity   \n",
       "count     96453.000000              96453.000000  96453.000000  \\\n",
       "mean         11.932678                 10.855029      0.734899   \n",
       "std           9.551546                 10.696847      0.195473   \n",
       "min         -21.822222                -27.716667      0.000000   \n",
       "25%           4.688889                  2.311111      0.600000   \n",
       "50%          12.000000                 12.000000      0.780000   \n",
       "75%          18.838889                 18.838889      0.890000   \n",
       "max          39.905556                 39.344444      1.000000   \n",
       "\n",
       "       Wind Speed (km/h)  Wind Bearing (degrees)  Visibility (km)  Loud Cover   \n",
       "count       96453.000000            96453.000000     96453.000000     96453.0  \\\n",
       "mean           10.810640              187.509232        10.347325         0.0   \n",
       "std             6.913571              107.383428         4.192123         0.0   \n",
       "min             0.000000                0.000000         0.000000         0.0   \n",
       "25%             5.828200              116.000000         8.339800         0.0   \n",
       "50%             9.965900              180.000000        10.046400         0.0   \n",
       "75%            14.135800              290.000000        14.812000         0.0   \n",
       "max            63.852600              359.000000        16.100000         0.0   \n",
       "\n",
       "       Pressure (millibars)  \n",
       "count          96453.000000  \n",
       "mean            1003.235956  \n",
       "std              116.969906  \n",
       "min                0.000000  \n",
       "25%             1011.900000  \n",
       "50%             1016.450000  \n",
       "75%             1021.090000  \n",
       "max             1046.380000  "
      ]
     },
     "execution_count": 6,
     "metadata": {},
     "output_type": "execute_result"
    }
   ],
   "source": [
    "df.describe()"
   ]
  },
  {
   "cell_type": "markdown",
   "id": "6bb6e960",
   "metadata": {},
   "source": [
    "### Identifying the null values"
   ]
  },
  {
   "cell_type": "code",
   "execution_count": 7,
   "id": "68af133d",
   "metadata": {},
   "outputs": [
    {
     "data": {
      "text/plain": [
       "Formatted Date                0\n",
       "Summary                       0\n",
       "Precip Type                 517\n",
       "Temperature (C)               0\n",
       "Apparent Temperature (C)      0\n",
       "Humidity                      0\n",
       "Wind Speed (km/h)             0\n",
       "Wind Bearing (degrees)        0\n",
       "Visibility (km)               0\n",
       "Loud Cover                    0\n",
       "Pressure (millibars)          0\n",
       "Daily Summary                 0\n",
       "dtype: int64"
      ]
     },
     "execution_count": 7,
     "metadata": {},
     "output_type": "execute_result"
    }
   ],
   "source": [
    "df.isnull().sum()"
   ]
  },
  {
   "cell_type": "code",
   "execution_count": 8,
   "id": "7b131f43",
   "metadata": {},
   "outputs": [],
   "source": [
    "df.dropna(subset=[\"Precip Type\"],inplace=True)"
   ]
  },
  {
   "cell_type": "code",
   "execution_count": 9,
   "id": "6f8ba430",
   "metadata": {},
   "outputs": [
    {
     "data": {
      "text/plain": [
       "array(['rain', 'snow'], dtype=object)"
      ]
     },
     "execution_count": 9,
     "metadata": {},
     "output_type": "execute_result"
    }
   ],
   "source": [
    "df['Precip Type'].unique()"
   ]
  },
  {
   "cell_type": "code",
   "execution_count": 10,
   "id": "0dd2db8b",
   "metadata": {},
   "outputs": [],
   "source": [
    "df['Precip Type']=df['Precip Type'].replace({\"rain\":1,\"snow\":0})"
   ]
  },
  {
   "cell_type": "code",
   "execution_count": 11,
   "id": "42ea9fd6",
   "metadata": {},
   "outputs": [],
   "source": [
    "df.drop([\"Daily Summary\",\"Loud Cover\"],axis=1,inplace=True)"
   ]
  },
  {
   "cell_type": "code",
   "execution_count": 12,
   "id": "218508ab",
   "metadata": {},
   "outputs": [],
   "source": [
    "df['Formatted Date'] = pd.to_datetime(df['Formatted Date'],utc=True)"
   ]
  },
  {
   "cell_type": "code",
   "execution_count": 13,
   "id": "c6cb84c8",
   "metadata": {},
   "outputs": [
    {
     "data": {
      "text/plain": [
       "array(['Partly Cloudy', 'Mostly Cloudy', 'Overcast', 'Foggy',\n",
       "       'Breezy and Mostly Cloudy', 'Clear', 'Breezy and Partly Cloudy',\n",
       "       'Breezy and Overcast', 'Humid and Mostly Cloudy',\n",
       "       'Humid and Partly Cloudy', 'Windy and Foggy', 'Windy and Overcast',\n",
       "       'Breezy and Foggy', 'Windy and Partly Cloudy', 'Breezy',\n",
       "       'Dry and Partly Cloudy', 'Windy and Mostly Cloudy',\n",
       "       'Dangerously Windy and Partly Cloudy', 'Dry', 'Windy',\n",
       "       'Humid and Overcast', 'Light Rain', 'Drizzle', 'Windy and Dry',\n",
       "       'Dry and Mostly Cloudy', 'Breezy and Dry', 'Rain'], dtype=object)"
      ]
     },
     "execution_count": 13,
     "metadata": {},
     "output_type": "execute_result"
    }
   ],
   "source": [
    "df[\"Summary\"].unique()"
   ]
  },
  {
   "cell_type": "code",
   "execution_count": 15,
   "id": "502a3fdb",
   "metadata": {},
   "outputs": [
    {
     "data": {
      "text/plain": [
       "<Axes: title={'center': 'Correlation matrix'}>"
      ]
     },
     "execution_count": 15,
     "metadata": {},
     "output_type": "execute_result"
    },
    {
     "data": {
      "image/png": "[encoded data removed]",
      "text/plain": [
       "<Figure size 800x600 with 2 Axes>"
      ]
     },
     "metadata": {},
     "output_type": "display_data"
    }
   ],
   "source": [
    "plt.figure(figsize=(8,6))\n",
    "plt.title(\"Correlation matrix\")\n",
    "sns.heatmap(df.corr(),annot=True)"
   ]
  },
  {
   "cell_type": "code",
   "execution_count": 16,
   "id": "1a338da4",
   "metadata": {},
   "outputs": [],
   "source": [
    "df.drop([\"Formatted Date\",\"Humidity\",\"Wind Bearing (degrees)\"],axis=1,inplace=True)"
   ]
  },
  {
   "cell_type": "code",
   "execution_count": 17,
   "id": "850995de",
   "metadata": {},
   "outputs": [],
   "source": [
    "df.drop([\"Summary\"],axis=1,inplace=True)"
   ]
  },
  {
   "cell_type": "code",
   "execution_count": 18,
   "id": "dedb1271",
   "metadata": {},
   "outputs": [
    {
     "name": "stdout",
     "output_type": "stream",
     "text": [
      "<class 'pandas.core.frame.DataFrame'>\n",
      "Index: 95936 entries, 0 to 96452\n",
      "Data columns (total 6 columns):\n",
      " #   Column                    Non-Null Count  Dtype  \n",
      "---  ------                    --------------  -----  \n",
      " 0   Precip Type               95936 non-null  int64  \n",
      " 1   Temperature (C)           95936 non-null  float64\n",
      " 2   Apparent Temperature (C)  95936 non-null  float64\n",
      " 3   Wind Speed (km/h)         95936 non-null  float64\n",
      " 4   Visibility (km)           95936 non-null  float64\n",
      " 5   Pressure (millibars)      95936 non-null  float64\n",
      "dtypes: float64(5), int64(1)\n",
      "memory usage: 5.1 MB\n"
     ]
    }
   ],
   "source": [
    "df.info()"
   ]
  },
  {
   "cell_type": "markdown",
   "id": "35daafa5",
   "metadata": {},
   "source": [
    "# Encoding the object columns using label encoder"
   ]
  },
  {
   "cell_type": "code",
   "execution_count": 14,
   "id": "bf54f892",
   "metadata": {},
   "outputs": [],
   "source": [
    "from sklearn.preprocessing import LabelEncoder\n",
    "encoder = LabelEncoder()\n",
    "df[\"Summary\"] = encoder.fit_transform(df[\"Summary\"])"
   ]
  },
  {
   "cell_type": "code",
   "execution_count": 19,
   "id": "5f9add11",
   "metadata": {},
   "outputs": [
    {
     "data": {
      "text/html": [
       "<div>\n",
       "<style scoped>\n",
       "    .dataframe tbody tr th:only-of-type {\n",
       "        vertical-align: middle;\n",
       "    }\n",
       "\n",
       "    .dataframe tbody tr th {\n",
       "        vertical-align: top;\n",
       "    }\n",
       "\n",
       "    .dataframe thead th {\n",
       "        text-align: right;\n",
       "    }\n",
       "</style>\n",
       "<table border=\"1\" class=\"dataframe\">\n",
       "  <thead>\n",
       "    <tr style=\"text-align: right;\">\n",
       "      <th></th>\n",
       "      <th>Temperature (C)</th>\n",
       "      <th>Apparent Temperature (C)</th>\n",
       "      <th>Wind Speed (km/h)</th>\n",
       "      <th>Visibility (km)</th>\n",
       "      <th>Pressure (millibars)</th>\n",
       "    </tr>\n",
       "  </thead>\n",
       "  <tbody>\n",
       "    <tr>\n",
       "      <th>0</th>\n",
       "      <td>9.472222</td>\n",
       "      <td>7.388889</td>\n",
       "      <td>14.1197</td>\n",
       "      <td>15.8263</td>\n",
       "      <td>1015.13</td>\n",
       "    </tr>\n",
       "    <tr>\n",
       "      <th>1</th>\n",
       "      <td>9.355556</td>\n",
       "      <td>7.227778</td>\n",
       "      <td>14.2646</td>\n",
       "      <td>15.8263</td>\n",
       "      <td>1015.63</td>\n",
       "    </tr>\n",
       "    <tr>\n",
       "      <th>2</th>\n",
       "      <td>9.377778</td>\n",
       "      <td>9.377778</td>\n",
       "      <td>3.9284</td>\n",
       "      <td>14.9569</td>\n",
       "      <td>1015.94</td>\n",
       "    </tr>\n",
       "    <tr>\n",
       "      <th>3</th>\n",
       "      <td>8.288889</td>\n",
       "      <td>5.944444</td>\n",
       "      <td>14.1036</td>\n",
       "      <td>15.8263</td>\n",
       "      <td>1016.41</td>\n",
       "    </tr>\n",
       "    <tr>\n",
       "      <th>4</th>\n",
       "      <td>8.755556</td>\n",
       "      <td>6.977778</td>\n",
       "      <td>11.0446</td>\n",
       "      <td>15.8263</td>\n",
       "      <td>1016.51</td>\n",
       "    </tr>\n",
       "  </tbody>\n",
       "</table>\n",
       "</div>"
      ],
      "text/plain": [
       "   Temperature (C)  Apparent Temperature (C)  Wind Speed (km/h)   \n",
       "0         9.472222                  7.388889            14.1197  \\\n",
       "1         9.355556                  7.227778            14.2646   \n",
       "2         9.377778                  9.377778             3.9284   \n",
       "3         8.288889                  5.944444            14.1036   \n",
       "4         8.755556                  6.977778            11.0446   \n",
       "\n",
       "   Visibility (km)  Pressure (millibars)  \n",
       "0          15.8263               1015.13  \n",
       "1          15.8263               1015.63  \n",
       "2          14.9569               1015.94  \n",
       "3          15.8263               1016.41  \n",
       "4          15.8263               1016.51  "
      ]
     },
     "execution_count": 19,
     "metadata": {},
     "output_type": "execute_result"
    }
   ],
   "source": [
    "X = df.drop([\"Precip Type\"],axis=1)\n",
    "X.head()"
   ]
  },
  {
   "cell_type": "code",
   "execution_count": 20,
   "id": "7c17529f",
   "metadata": {},
   "outputs": [
    {
     "data": {
      "text/plain": [
       "0    1\n",
       "1    1\n",
       "2    1\n",
       "3    1\n",
       "4    1\n",
       "Name: Precip Type, dtype: int64"
      ]
     },
     "execution_count": 20,
     "metadata": {},
     "output_type": "execute_result"
    }
   ],
   "source": [
    "y = df[\"Precip Type\"]\n",
    "y.head()"
   ]
  },
  {
   "cell_type": "markdown",
   "id": "3a00b636",
   "metadata": {},
   "source": [
    "# Model Bulding\n",
    "Preparing data for model building"
   ]
  },
  {
   "cell_type": "code",
   "execution_count": 21,
   "id": "97a05453",
   "metadata": {},
   "outputs": [],
   "source": [
    "from sklearn.model_selection import train_test_split\n",
    "X_train, X_test, y_train, y_test = train_test_split(X, y, test_size=0.20, random_state=42)"
   ]
  },
  {
   "cell_type": "code",
   "execution_count": 22,
   "id": "88f37b5f",
   "metadata": {},
   "outputs": [
    {
     "data": {
      "text/plain": [
       "(76748, 5)"
      ]
     },
     "execution_count": 22,
     "metadata": {},
     "output_type": "execute_result"
    }
   ],
   "source": [
    "X_train.shape"
   ]
  },
  {
   "cell_type": "code",
   "execution_count": 23,
   "id": "981f2c90",
   "metadata": {},
   "outputs": [
    {
     "data": {
      "text/plain": [
       "(19188, 5)"
      ]
     },
     "execution_count": 23,
     "metadata": {},
     "output_type": "execute_result"
    }
   ],
   "source": [
    "X_test.shape"
   ]
  },
  {
   "cell_type": "markdown",
   "id": "a07c0684",
   "metadata": {},
   "source": [
    "# Classification model building using LogisticRegression"
   ]
  },
  {
   "cell_type": "code",
   "execution_count": 25,
   "id": "dfa9a1b4",
   "metadata": {},
   "outputs": [
    {
     "data": {
      "text/plain": [
       "0.9985928705440901"
      ]
     },
     "execution_count": 25,
     "metadata": {},
     "output_type": "execute_result"
    }
   ],
   "source": [
    "from sklearn.linear_model import LogisticRegression\n",
    "model = LogisticRegression()\n",
    "model.fit(X_train,y_train)\n",
    "model.score(X_test,y_test)"
   ]
  },
  {
   "cell_type": "markdown",
   "id": "a81f924a",
   "metadata": {},
   "source": [
    "# Classification model building using naiveBayes"
   ]
  },
  {
   "cell_type": "code",
   "execution_count": 24,
   "id": "75f6c0aa",
   "metadata": {},
   "outputs": [
    {
     "data": {
      "text/plain": [
       "0.9535126120491975"
      ]
     },
     "execution_count": 24,
     "metadata": {},
     "output_type": "execute_result"
    }
   ],
   "source": [
    "from sklearn.naive_bayes import GaussianNB\n",
    "model = GaussianNB()\n",
    "model.fit(X_train,y_train)\n",
    "model.score(X_test,y_test)"
   ]
  },
  {
   "cell_type": "code",
   "execution_count": 26,
   "id": "10bd8497",
   "metadata": {},
   "outputs": [
    {
     "data": {
      "text/plain": [
       "1.0"
      ]
     },
     "execution_count": 26,
     "metadata": {},
     "output_type": "execute_result"
    }
   ],
   "source": [
    "from sklearn.naive_bayes import BernoulliNB\n",
    "model = BernoulliNB()\n",
    "model.fit(X_train,y_train)\n",
    "model.score(X_test,y_test)"
   ]
  },
  {
   "cell_type": "markdown",
   "id": "deea8d4b",
   "metadata": {},
   "source": [
    "# Predicting the test values\n",
    "Predicting the output for the test data"
   ]
  },
  {
   "cell_type": "code",
   "execution_count": 27,
   "id": "3119489e",
   "metadata": {},
   "outputs": [
    {
     "data": {
      "text/plain": [
       "array([0, 1, 1, 1, 1, 0, 1, 1, 1, 0], dtype=int64)"
      ]
     },
     "execution_count": 27,
     "metadata": {},
     "output_type": "execute_result"
    }
   ],
   "source": [
    "y_pred = model.predict(X_test)\n",
    "y_pred[10:20]"
   ]
  },
  {
   "cell_type": "code",
   "execution_count": 28,
   "id": "2f6fa31d",
   "metadata": {},
   "outputs": [
    {
     "data": {
      "text/plain": [
       "19037    0\n",
       "62697    1\n",
       "39649    1\n",
       "70501    1\n",
       "52332    1\n",
       "54420    0\n",
       "36165    1\n",
       "72453    1\n",
       "79698    1\n",
       "90806    0\n",
       "Name: Precip Type, dtype: int64"
      ]
     },
     "execution_count": 28,
     "metadata": {},
     "output_type": "execute_result"
    }
   ],
   "source": [
    "y_test[10:20]"
   ]
  },
  {
   "cell_type": "code",
   "execution_count": 29,
   "id": "7078c0ee",
   "metadata": {},
   "outputs": [],
   "source": [
    "from sklearn.metrics import confusion_matrix\n",
    "cm = confusion_matrix(y_pred,y_test)"
   ]
  },
  {
   "cell_type": "code",
   "execution_count": 30,
   "id": "feb3aa4f",
   "metadata": {},
   "outputs": [
    {
     "data": {
      "text/plain": [
       "<Axes: >"
      ]
     },
     "execution_count": 30,
     "metadata": {},
     "output_type": "execute_result"
    },
    {
     "data": {
      "image/png": "[encoded data removed]",
      "text/plain": [
       "<Figure size 640x480 with 2 Axes>"
      ]
     },
     "metadata": {},
     "output_type": "display_data"
    }
   ],
   "source": [
    "label = ['rain', 'snow']\n",
    "sns.heatmap(cm,annot=True,fmt=\"d\",xticklabels=label,yticklabels=label)"
   ]
  },
  {
   "cell_type": "markdown",
   "id": "4a3d5ce0",
   "metadata": {},
   "source": [
    "# Naive Bayes accuracy is greater than LogisticRegression"
   ]
  },
  {
   "cell_type": "code",
   "execution_count": 31,
   "id": "e2b955d2",
   "metadata": {},
   "outputs": [
    {
     "data": {
      "text/plain": [
       "array([1], dtype=int64)"
      ]
     },
     "execution_count": 31,
     "metadata": {},
     "output_type": "execute_result"
    }
   ],
   "source": [
    "model.predict([[9.472222,7.388889,14.1197,15.8263,1015.13]])"
   ]
  },
  {
   "cell_type": "code",
   "execution_count": null,
   "id": "5589cbd9",
   "metadata": {},
   "outputs": [],
   "source": []
  }
 ],
 "metadata": {
  "kernelspec": {
   "display_name": "Python 3 (ipykernel)",
   "language": "python",
   "name": "python3"
  },
  "language_info": {
   "codemirror_mode": {
    "name": "ipython",
    "version": 3
   },
   "file_extension": ".py",
   "mimetype": "text/x-python",
   "name": "python",
   "nbconvert_exporter": "python",
   "pygments_lexer": "ipython3",
   "version": "3.8.2"
  }
 },
 "nbformat": 4,
 "nbformat_minor": 5
}
