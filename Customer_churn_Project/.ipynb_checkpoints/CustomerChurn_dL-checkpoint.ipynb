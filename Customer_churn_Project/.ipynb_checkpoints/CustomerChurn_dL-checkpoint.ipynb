{
 "cells": [
  {
   "cell_type": "markdown",
   "id": "b7aced20",
   "metadata": {},
   "source": [
    "# project on customer churn prediction"
   ]
  },
  {
   "cell_type": "markdown",
   "id": "e8f3f95f",
   "metadata": {},
   "source": [
    "loading the customer churn dataset"
   ]
  },
  {
   "cell_type": "code",
   "execution_count": 1,
   "id": "7556ddd9",
   "metadata": {},
   "outputs": [],
   "source": [
    "import pandas as pd\n",
    "import matplotlib.pyplot as plt\n",
    "import tensorflow as tf\n",
    "from tensorflow import keras\n",
    "import seaborn as sns"
   ]
  },
  {
   "cell_type": "code",
   "execution_count": 2,
   "id": "11fc347c",
   "metadata": {},
   "outputs": [],
   "source": [
    "df = pd.read_csv(\"D:\\GIT\\customer_churn\\customerchurn.csv\")"
   ]
  },
  {
   "cell_type": "code",
   "execution_count": 3,
   "id": "0003e898",
   "metadata": {},
   "outputs": [
    {
     "data": {
      "text/html": [
       "<div>\n",
       "<style scoped>\n",
       "    .dataframe tbody tr th:only-of-type {\n",
       "        vertical-align: middle;\n",
       "    }\n",
       "\n",
       "    .dataframe tbody tr th {\n",
       "        vertical-align: top;\n",
       "    }\n",
       "\n",
       "    .dataframe thead th {\n",
       "        text-align: right;\n",
       "    }\n",
       "</style>\n",
       "<table border=\"1\" class=\"dataframe\">\n",
       "  <thead>\n",
       "    <tr style=\"text-align: right;\">\n",
       "      <th></th>\n",
       "      <th>customerID</th>\n",
       "      <th>gender</th>\n",
       "      <th>SeniorCitizen</th>\n",
       "      <th>Partner</th>\n",
       "      <th>Dependents</th>\n",
       "      <th>tenure</th>\n",
       "      <th>PhoneService</th>\n",
       "      <th>MultipleLines</th>\n",
       "      <th>InternetService</th>\n",
       "      <th>OnlineSecurity</th>\n",
       "      <th>...</th>\n",
       "      <th>DeviceProtection</th>\n",
       "      <th>TechSupport</th>\n",
       "      <th>StreamingTV</th>\n",
       "      <th>StreamingMovies</th>\n",
       "      <th>Contract</th>\n",
       "      <th>PaperlessBilling</th>\n",
       "      <th>PaymentMethod</th>\n",
       "      <th>MonthlyCharges</th>\n",
       "      <th>TotalCharges</th>\n",
       "      <th>Churn</th>\n",
       "    </tr>\n",
       "  </thead>\n",
       "  <tbody>\n",
       "    <tr>\n",
       "      <th>0</th>\n",
       "      <td>7590-VHVEG</td>\n",
       "      <td>Female</td>\n",
       "      <td>0</td>\n",
       "      <td>Yes</td>\n",
       "      <td>No</td>\n",
       "      <td>1</td>\n",
       "      <td>No</td>\n",
       "      <td>No phone service</td>\n",
       "      <td>DSL</td>\n",
       "      <td>No</td>\n",
       "      <td>...</td>\n",
       "      <td>No</td>\n",
       "      <td>No</td>\n",
       "      <td>No</td>\n",
       "      <td>No</td>\n",
       "      <td>Month-to-month</td>\n",
       "      <td>Yes</td>\n",
       "      <td>Electronic check</td>\n",
       "      <td>29.85</td>\n",
       "      <td>29.85</td>\n",
       "      <td>No</td>\n",
       "    </tr>\n",
       "    <tr>\n",
       "      <th>1</th>\n",
       "      <td>5575-GNVDE</td>\n",
       "      <td>Male</td>\n",
       "      <td>0</td>\n",
       "      <td>No</td>\n",
       "      <td>No</td>\n",
       "      <td>34</td>\n",
       "      <td>Yes</td>\n",
       "      <td>No</td>\n",
       "      <td>DSL</td>\n",
       "      <td>Yes</td>\n",
       "      <td>...</td>\n",
       "      <td>Yes</td>\n",
       "      <td>No</td>\n",
       "      <td>No</td>\n",
       "      <td>No</td>\n",
       "      <td>One year</td>\n",
       "      <td>No</td>\n",
       "      <td>Mailed check</td>\n",
       "      <td>56.95</td>\n",
       "      <td>1889.5</td>\n",
       "      <td>No</td>\n",
       "    </tr>\n",
       "    <tr>\n",
       "      <th>2</th>\n",
       "      <td>3668-QPYBK</td>\n",
       "      <td>Male</td>\n",
       "      <td>0</td>\n",
       "      <td>No</td>\n",
       "      <td>No</td>\n",
       "      <td>2</td>\n",
       "      <td>Yes</td>\n",
       "      <td>No</td>\n",
       "      <td>DSL</td>\n",
       "      <td>Yes</td>\n",
       "      <td>...</td>\n",
       "      <td>No</td>\n",
       "      <td>No</td>\n",
       "      <td>No</td>\n",
       "      <td>No</td>\n",
       "      <td>Month-to-month</td>\n",
       "      <td>Yes</td>\n",
       "      <td>Mailed check</td>\n",
       "      <td>53.85</td>\n",
       "      <td>108.15</td>\n",
       "      <td>Yes</td>\n",
       "    </tr>\n",
       "    <tr>\n",
       "      <th>3</th>\n",
       "      <td>7795-CFOCW</td>\n",
       "      <td>Male</td>\n",
       "      <td>0</td>\n",
       "      <td>No</td>\n",
       "      <td>No</td>\n",
       "      <td>45</td>\n",
       "      <td>No</td>\n",
       "      <td>No phone service</td>\n",
       "      <td>DSL</td>\n",
       "      <td>Yes</td>\n",
       "      <td>...</td>\n",
       "      <td>Yes</td>\n",
       "      <td>Yes</td>\n",
       "      <td>No</td>\n",
       "      <td>No</td>\n",
       "      <td>One year</td>\n",
       "      <td>No</td>\n",
       "      <td>Bank transfer (automatic)</td>\n",
       "      <td>42.30</td>\n",
       "      <td>1840.75</td>\n",
       "      <td>No</td>\n",
       "    </tr>\n",
       "    <tr>\n",
       "      <th>4</th>\n",
       "      <td>9237-HQITU</td>\n",
       "      <td>Female</td>\n",
       "      <td>0</td>\n",
       "      <td>No</td>\n",
       "      <td>No</td>\n",
       "      <td>2</td>\n",
       "      <td>Yes</td>\n",
       "      <td>No</td>\n",
       "      <td>Fiber optic</td>\n",
       "      <td>No</td>\n",
       "      <td>...</td>\n",
       "      <td>No</td>\n",
       "      <td>No</td>\n",
       "      <td>No</td>\n",
       "      <td>No</td>\n",
       "      <td>Month-to-month</td>\n",
       "      <td>Yes</td>\n",
       "      <td>Electronic check</td>\n",
       "      <td>70.70</td>\n",
       "      <td>151.65</td>\n",
       "      <td>Yes</td>\n",
       "    </tr>\n",
       "  </tbody>\n",
       "</table>\n",
       "<p>5 rows × 21 columns</p>\n",
       "</div>"
      ],
      "text/plain": [
       "   customerID  gender  SeniorCitizen Partner Dependents  tenure PhoneService   \n",
       "0  7590-VHVEG  Female              0     Yes         No       1           No  \\\n",
       "1  5575-GNVDE    Male              0      No         No      34          Yes   \n",
       "2  3668-QPYBK    Male              0      No         No       2          Yes   \n",
       "3  7795-CFOCW    Male              0      No         No      45           No   \n",
       "4  9237-HQITU  Female              0      No         No       2          Yes   \n",
       "\n",
       "      MultipleLines InternetService OnlineSecurity  ... DeviceProtection   \n",
       "0  No phone service             DSL             No  ...               No  \\\n",
       "1                No             DSL            Yes  ...              Yes   \n",
       "2                No             DSL            Yes  ...               No   \n",
       "3  No phone service             DSL            Yes  ...              Yes   \n",
       "4                No     Fiber optic             No  ...               No   \n",
       "\n",
       "  TechSupport StreamingTV StreamingMovies        Contract PaperlessBilling   \n",
       "0          No          No              No  Month-to-month              Yes  \\\n",
       "1          No          No              No        One year               No   \n",
       "2          No          No              No  Month-to-month              Yes   \n",
       "3         Yes          No              No        One year               No   \n",
       "4          No          No              No  Month-to-month              Yes   \n",
       "\n",
       "               PaymentMethod MonthlyCharges  TotalCharges Churn  \n",
       "0           Electronic check          29.85         29.85    No  \n",
       "1               Mailed check          56.95        1889.5    No  \n",
       "2               Mailed check          53.85        108.15   Yes  \n",
       "3  Bank transfer (automatic)          42.30       1840.75    No  \n",
       "4           Electronic check          70.70        151.65   Yes  \n",
       "\n",
       "[5 rows x 21 columns]"
      ]
     },
     "execution_count": 3,
     "metadata": {},
     "output_type": "execute_result"
    }
   ],
   "source": [
    "df.head()"
   ]
  },
  {
   "cell_type": "code",
   "execution_count": 4,
   "id": "256c9280",
   "metadata": {},
   "outputs": [
    {
     "data": {
      "text/plain": [
       "(7043, 21)"
      ]
     },
     "execution_count": 4,
     "metadata": {},
     "output_type": "execute_result"
    }
   ],
   "source": [
    "df.shape"
   ]
  },
  {
   "cell_type": "markdown",
   "id": "b3346f35",
   "metadata": {},
   "source": [
    "# data cleaning and modeling"
   ]
  },
  {
   "cell_type": "markdown",
   "id": "1036b7a7",
   "metadata": {},
   "source": [
    "identifying the column and datatype and droping unnessary data"
   ]
  },
  {
   "cell_type": "code",
   "execution_count": 5,
   "id": "ecae2665",
   "metadata": {},
   "outputs": [
    {
     "name": "stdout",
     "output_type": "stream",
     "text": [
      "<class 'pandas.core.frame.DataFrame'>\n",
      "RangeIndex: 7043 entries, 0 to 7042\n",
      "Data columns (total 21 columns):\n",
      " #   Column            Non-Null Count  Dtype  \n",
      "---  ------            --------------  -----  \n",
      " 0   customerID        7043 non-null   object \n",
      " 1   gender            7043 non-null   object \n",
      " 2   SeniorCitizen     7043 non-null   int64  \n",
      " 3   Partner           7043 non-null   object \n",
      " 4   Dependents        7043 non-null   object \n",
      " 5   tenure            7043 non-null   int64  \n",
      " 6   PhoneService      7043 non-null   object \n",
      " 7   MultipleLines     7043 non-null   object \n",
      " 8   InternetService   7043 non-null   object \n",
      " 9   OnlineSecurity    7043 non-null   object \n",
      " 10  OnlineBackup      7043 non-null   object \n",
      " 11  DeviceProtection  7043 non-null   object \n",
      " 12  TechSupport       7043 non-null   object \n",
      " 13  StreamingTV       7043 non-null   object \n",
      " 14  StreamingMovies   7043 non-null   object \n",
      " 15  Contract          7043 non-null   object \n",
      " 16  PaperlessBilling  7043 non-null   object \n",
      " 17  PaymentMethod     7043 non-null   object \n",
      " 18  MonthlyCharges    7043 non-null   float64\n",
      " 19  TotalCharges      7043 non-null   object \n",
      " 20  Churn             7043 non-null   object \n",
      "dtypes: float64(1), int64(2), object(18)\n",
      "memory usage: 1.1+ MB\n"
     ]
    }
   ],
   "source": [
    "df.info()"
   ]
  },
  {
   "cell_type": "markdown",
   "id": "ebc40ccf",
   "metadata": {},
   "source": [
    "identifying the null value"
   ]
  },
  {
   "cell_type": "code",
   "execution_count": 6,
   "id": "d3785e98",
   "metadata": {},
   "outputs": [
    {
     "data": {
      "text/plain": [
       "customerID          0\n",
       "gender              0\n",
       "SeniorCitizen       0\n",
       "Partner             0\n",
       "Dependents          0\n",
       "tenure              0\n",
       "PhoneService        0\n",
       "MultipleLines       0\n",
       "InternetService     0\n",
       "OnlineSecurity      0\n",
       "OnlineBackup        0\n",
       "DeviceProtection    0\n",
       "TechSupport         0\n",
       "StreamingTV         0\n",
       "StreamingMovies     0\n",
       "Contract            0\n",
       "PaperlessBilling    0\n",
       "PaymentMethod       0\n",
       "MonthlyCharges      0\n",
       "TotalCharges        0\n",
       "Churn               0\n",
       "dtype: int64"
      ]
     },
     "execution_count": 6,
     "metadata": {},
     "output_type": "execute_result"
    }
   ],
   "source": [
    "df.isnull().sum()"
   ]
  },
  {
   "cell_type": "code",
   "execution_count": 7,
   "id": "24f99c99",
   "metadata": {},
   "outputs": [
    {
     "data": {
      "text/plain": [
       "0"
      ]
     },
     "execution_count": 7,
     "metadata": {},
     "output_type": "execute_result"
    }
   ],
   "source": [
    "df.duplicated().sum()"
   ]
  },
  {
   "cell_type": "code",
   "execution_count": 8,
   "id": "60fd860e",
   "metadata": {},
   "outputs": [],
   "source": [
    "df.drop(\"customerID\",axis=1,inplace=True)"
   ]
  },
  {
   "cell_type": "code",
   "execution_count": 9,
   "id": "186c2d6a",
   "metadata": {},
   "outputs": [
    {
     "data": {
      "text/plain": [
       "(7043, 20)"
      ]
     },
     "execution_count": 9,
     "metadata": {},
     "output_type": "execute_result"
    }
   ],
   "source": [
    "df.shape"
   ]
  },
  {
   "cell_type": "code",
   "execution_count": 10,
   "id": "dd5aef21",
   "metadata": {},
   "outputs": [],
   "source": [
    "df1 = df.copy()"
   ]
  },
  {
   "cell_type": "code",
   "execution_count": 11,
   "id": "07d116d4",
   "metadata": {},
   "outputs": [
    {
     "name": "stdout",
     "output_type": "stream",
     "text": [
      "gender  :  ['Female' 'Male']\n",
      "SeniorCitizen  :  [0 1]\n",
      "Partner  :  ['Yes' 'No']\n",
      "Dependents  :  ['No' 'Yes']\n",
      "tenure  :  [ 1 34  2 45  8 22 10 28 62 13 16 58 49 25 69 52 71 21 12 30 47 72 17 27\n",
      "  5 46 11 70 63 43 15 60 18 66  9  3 31 50 64 56  7 42 35 48 29 65 38 68\n",
      " 32 55 37 36 41  6  4 33 67 23 57 61 14 20 53 40 59 24 44 19 54 51 26  0\n",
      " 39]\n",
      "PhoneService  :  ['No' 'Yes']\n",
      "MultipleLines  :  ['No phone service' 'No' 'Yes']\n",
      "InternetService  :  ['DSL' 'Fiber optic' 'No']\n",
      "OnlineSecurity  :  ['No' 'Yes' 'No internet service']\n",
      "OnlineBackup  :  ['Yes' 'No' 'No internet service']\n",
      "DeviceProtection  :  ['No' 'Yes' 'No internet service']\n",
      "TechSupport  :  ['No' 'Yes' 'No internet service']\n",
      "StreamingTV  :  ['No' 'Yes' 'No internet service']\n",
      "StreamingMovies  :  ['No' 'Yes' 'No internet service']\n",
      "Contract  :  ['Month-to-month' 'One year' 'Two year']\n",
      "PaperlessBilling  :  ['Yes' 'No']\n",
      "PaymentMethod  :  ['Electronic check' 'Mailed check' 'Bank transfer (automatic)'\n",
      " 'Credit card (automatic)']\n",
      "MonthlyCharges  :  [29.85 56.95 53.85 ... 63.1  44.2  78.7 ]\n",
      "TotalCharges  :  ['29.85' '1889.5' '108.15' ... '346.45' '306.6' '6844.5']\n",
      "Churn  :  ['No' 'Yes']\n"
     ]
    }
   ],
   "source": [
    "for i in df1:\n",
    "    print(i,\" : \", df1[i].unique())"
   ]
  },
  {
   "cell_type": "code",
   "execution_count": 12,
   "id": "93175961",
   "metadata": {},
   "outputs": [],
   "source": [
    "df1 = df1.replace(\"No phone service\",\"No\")"
   ]
  },
  {
   "cell_type": "code",
   "execution_count": 13,
   "id": "27acc514",
   "metadata": {},
   "outputs": [],
   "source": [
    "df1 = df1.replace(\"No internet service\",\"No\")"
   ]
  },
  {
   "cell_type": "code",
   "execution_count": 14,
   "id": "8cece64b",
   "metadata": {},
   "outputs": [],
   "source": [
    "df1 = df1.replace({\"No\" : 0,\"Yes\":1,'Female':0, 'Male':1})"
   ]
  },
  {
   "cell_type": "code",
   "execution_count": 15,
   "id": "61a8623e",
   "metadata": {},
   "outputs": [],
   "source": [
    "df1[\"TotalCharges\"]= pd.to_numeric(df1[\"TotalCharges\"],errors=\"coerce\")\n"
   ]
  },
  {
   "cell_type": "code",
   "execution_count": 16,
   "id": "61535678",
   "metadata": {},
   "outputs": [
    {
     "data": {
      "text/html": [
       "<div>\n",
       "<style scoped>\n",
       "    .dataframe tbody tr th:only-of-type {\n",
       "        vertical-align: middle;\n",
       "    }\n",
       "\n",
       "    .dataframe tbody tr th {\n",
       "        vertical-align: top;\n",
       "    }\n",
       "\n",
       "    .dataframe thead th {\n",
       "        text-align: right;\n",
       "    }\n",
       "</style>\n",
       "<table border=\"1\" class=\"dataframe\">\n",
       "  <thead>\n",
       "    <tr style=\"text-align: right;\">\n",
       "      <th></th>\n",
       "      <th>gender</th>\n",
       "      <th>SeniorCitizen</th>\n",
       "      <th>Partner</th>\n",
       "      <th>Dependents</th>\n",
       "      <th>tenure</th>\n",
       "      <th>PhoneService</th>\n",
       "      <th>MultipleLines</th>\n",
       "      <th>InternetService</th>\n",
       "      <th>OnlineSecurity</th>\n",
       "      <th>OnlineBackup</th>\n",
       "      <th>DeviceProtection</th>\n",
       "      <th>TechSupport</th>\n",
       "      <th>StreamingTV</th>\n",
       "      <th>StreamingMovies</th>\n",
       "      <th>Contract</th>\n",
       "      <th>PaperlessBilling</th>\n",
       "      <th>PaymentMethod</th>\n",
       "      <th>MonthlyCharges</th>\n",
       "      <th>TotalCharges</th>\n",
       "      <th>Churn</th>\n",
       "    </tr>\n",
       "  </thead>\n",
       "  <tbody>\n",
       "    <tr>\n",
       "      <th>0</th>\n",
       "      <td>0</td>\n",
       "      <td>0</td>\n",
       "      <td>1</td>\n",
       "      <td>0</td>\n",
       "      <td>1</td>\n",
       "      <td>0</td>\n",
       "      <td>0</td>\n",
       "      <td>DSL</td>\n",
       "      <td>0</td>\n",
       "      <td>1</td>\n",
       "      <td>0</td>\n",
       "      <td>0</td>\n",
       "      <td>0</td>\n",
       "      <td>0</td>\n",
       "      <td>Month-to-month</td>\n",
       "      <td>1</td>\n",
       "      <td>Electronic check</td>\n",
       "      <td>29.85</td>\n",
       "      <td>29.85</td>\n",
       "      <td>0</td>\n",
       "    </tr>\n",
       "    <tr>\n",
       "      <th>1</th>\n",
       "      <td>1</td>\n",
       "      <td>0</td>\n",
       "      <td>0</td>\n",
       "      <td>0</td>\n",
       "      <td>34</td>\n",
       "      <td>1</td>\n",
       "      <td>0</td>\n",
       "      <td>DSL</td>\n",
       "      <td>1</td>\n",
       "      <td>0</td>\n",
       "      <td>1</td>\n",
       "      <td>0</td>\n",
       "      <td>0</td>\n",
       "      <td>0</td>\n",
       "      <td>One year</td>\n",
       "      <td>0</td>\n",
       "      <td>Mailed check</td>\n",
       "      <td>56.95</td>\n",
       "      <td>1889.50</td>\n",
       "      <td>0</td>\n",
       "    </tr>\n",
       "    <tr>\n",
       "      <th>2</th>\n",
       "      <td>1</td>\n",
       "      <td>0</td>\n",
       "      <td>0</td>\n",
       "      <td>0</td>\n",
       "      <td>2</td>\n",
       "      <td>1</td>\n",
       "      <td>0</td>\n",
       "      <td>DSL</td>\n",
       "      <td>1</td>\n",
       "      <td>1</td>\n",
       "      <td>0</td>\n",
       "      <td>0</td>\n",
       "      <td>0</td>\n",
       "      <td>0</td>\n",
       "      <td>Month-to-month</td>\n",
       "      <td>1</td>\n",
       "      <td>Mailed check</td>\n",
       "      <td>53.85</td>\n",
       "      <td>108.15</td>\n",
       "      <td>1</td>\n",
       "    </tr>\n",
       "    <tr>\n",
       "      <th>3</th>\n",
       "      <td>1</td>\n",
       "      <td>0</td>\n",
       "      <td>0</td>\n",
       "      <td>0</td>\n",
       "      <td>45</td>\n",
       "      <td>0</td>\n",
       "      <td>0</td>\n",
       "      <td>DSL</td>\n",
       "      <td>1</td>\n",
       "      <td>0</td>\n",
       "      <td>1</td>\n",
       "      <td>1</td>\n",
       "      <td>0</td>\n",
       "      <td>0</td>\n",
       "      <td>One year</td>\n",
       "      <td>0</td>\n",
       "      <td>Bank transfer (automatic)</td>\n",
       "      <td>42.30</td>\n",
       "      <td>1840.75</td>\n",
       "      <td>0</td>\n",
       "    </tr>\n",
       "    <tr>\n",
       "      <th>4</th>\n",
       "      <td>0</td>\n",
       "      <td>0</td>\n",
       "      <td>0</td>\n",
       "      <td>0</td>\n",
       "      <td>2</td>\n",
       "      <td>1</td>\n",
       "      <td>0</td>\n",
       "      <td>Fiber optic</td>\n",
       "      <td>0</td>\n",
       "      <td>0</td>\n",
       "      <td>0</td>\n",
       "      <td>0</td>\n",
       "      <td>0</td>\n",
       "      <td>0</td>\n",
       "      <td>Month-to-month</td>\n",
       "      <td>1</td>\n",
       "      <td>Electronic check</td>\n",
       "      <td>70.70</td>\n",
       "      <td>151.65</td>\n",
       "      <td>1</td>\n",
       "    </tr>\n",
       "  </tbody>\n",
       "</table>\n",
       "</div>"
      ],
      "text/plain": [
       "   gender  SeniorCitizen  Partner  Dependents  tenure  PhoneService   \n",
       "0       0              0        1           0       1             0  \\\n",
       "1       1              0        0           0      34             1   \n",
       "2       1              0        0           0       2             1   \n",
       "3       1              0        0           0      45             0   \n",
       "4       0              0        0           0       2             1   \n",
       "\n",
       "   MultipleLines InternetService  OnlineSecurity  OnlineBackup   \n",
       "0              0             DSL               0             1  \\\n",
       "1              0             DSL               1             0   \n",
       "2              0             DSL               1             1   \n",
       "3              0             DSL               1             0   \n",
       "4              0     Fiber optic               0             0   \n",
       "\n",
       "   DeviceProtection  TechSupport  StreamingTV  StreamingMovies   \n",
       "0                 0            0            0                0  \\\n",
       "1                 1            0            0                0   \n",
       "2                 0            0            0                0   \n",
       "3                 1            1            0                0   \n",
       "4                 0            0            0                0   \n",
       "\n",
       "         Contract  PaperlessBilling              PaymentMethod   \n",
       "0  Month-to-month                 1           Electronic check  \\\n",
       "1        One year                 0               Mailed check   \n",
       "2  Month-to-month                 1               Mailed check   \n",
       "3        One year                 0  Bank transfer (automatic)   \n",
       "4  Month-to-month                 1           Electronic check   \n",
       "\n",
       "   MonthlyCharges  TotalCharges  Churn  \n",
       "0           29.85         29.85      0  \n",
       "1           56.95       1889.50      0  \n",
       "2           53.85        108.15      1  \n",
       "3           42.30       1840.75      0  \n",
       "4           70.70        151.65      1  "
      ]
     },
     "execution_count": 16,
     "metadata": {},
     "output_type": "execute_result"
    }
   ],
   "source": [
    "df1.head()"
   ]
  },
  {
   "cell_type": "code",
   "execution_count": 17,
   "id": "b8502fba",
   "metadata": {},
   "outputs": [
    {
     "name": "stdout",
     "output_type": "stream",
     "text": [
      "<class 'pandas.core.frame.DataFrame'>\n",
      "RangeIndex: 7043 entries, 0 to 7042\n",
      "Data columns (total 20 columns):\n",
      " #   Column            Non-Null Count  Dtype  \n",
      "---  ------            --------------  -----  \n",
      " 0   gender            7043 non-null   int64  \n",
      " 1   SeniorCitizen     7043 non-null   int64  \n",
      " 2   Partner           7043 non-null   int64  \n",
      " 3   Dependents        7043 non-null   int64  \n",
      " 4   tenure            7043 non-null   int64  \n",
      " 5   PhoneService      7043 non-null   int64  \n",
      " 6   MultipleLines     7043 non-null   int64  \n",
      " 7   InternetService   7043 non-null   object \n",
      " 8   OnlineSecurity    7043 non-null   int64  \n",
      " 9   OnlineBackup      7043 non-null   int64  \n",
      " 10  DeviceProtection  7043 non-null   int64  \n",
      " 11  TechSupport       7043 non-null   int64  \n",
      " 12  StreamingTV       7043 non-null   int64  \n",
      " 13  StreamingMovies   7043 non-null   int64  \n",
      " 14  Contract          7043 non-null   object \n",
      " 15  PaperlessBilling  7043 non-null   int64  \n",
      " 16  PaymentMethod     7043 non-null   object \n",
      " 17  MonthlyCharges    7043 non-null   float64\n",
      " 18  TotalCharges      7032 non-null   float64\n",
      " 19  Churn             7043 non-null   int64  \n",
      "dtypes: float64(2), int64(15), object(3)\n",
      "memory usage: 1.1+ MB\n"
     ]
    }
   ],
   "source": [
    "df1.info()"
   ]
  },
  {
   "cell_type": "code",
   "execution_count": 18,
   "id": "5c3cc2bd",
   "metadata": {},
   "outputs": [
    {
     "data": {
      "text/plain": [
       "gender               0\n",
       "SeniorCitizen        0\n",
       "Partner              0\n",
       "Dependents           0\n",
       "tenure               0\n",
       "PhoneService         0\n",
       "MultipleLines        0\n",
       "InternetService      0\n",
       "OnlineSecurity       0\n",
       "OnlineBackup         0\n",
       "DeviceProtection     0\n",
       "TechSupport          0\n",
       "StreamingTV          0\n",
       "StreamingMovies      0\n",
       "Contract             0\n",
       "PaperlessBilling     0\n",
       "PaymentMethod        0\n",
       "MonthlyCharges       0\n",
       "TotalCharges        11\n",
       "Churn                0\n",
       "dtype: int64"
      ]
     },
     "execution_count": 18,
     "metadata": {},
     "output_type": "execute_result"
    }
   ],
   "source": [
    "df1.isnull().sum()"
   ]
  },
  {
   "cell_type": "code",
   "execution_count": 19,
   "id": "ac32c7fb",
   "metadata": {},
   "outputs": [],
   "source": [
    "df1.dropna(inplace=True)"
   ]
  },
  {
   "cell_type": "code",
   "execution_count": 20,
   "id": "a019a972",
   "metadata": {},
   "outputs": [],
   "source": [
    "final = pd.get_dummies(data=df1,drop_first=True,dtype=int)"
   ]
  },
  {
   "cell_type": "code",
   "execution_count": 21,
   "id": "fc1111da",
   "metadata": {},
   "outputs": [
    {
     "data": {
      "text/html": [
       "<div>\n",
       "<style scoped>\n",
       "    .dataframe tbody tr th:only-of-type {\n",
       "        vertical-align: middle;\n",
       "    }\n",
       "\n",
       "    .dataframe tbody tr th {\n",
       "        vertical-align: top;\n",
       "    }\n",
       "\n",
       "    .dataframe thead th {\n",
       "        text-align: right;\n",
       "    }\n",
       "</style>\n",
       "<table border=\"1\" class=\"dataframe\">\n",
       "  <thead>\n",
       "    <tr style=\"text-align: right;\">\n",
       "      <th></th>\n",
       "      <th>gender</th>\n",
       "      <th>SeniorCitizen</th>\n",
       "      <th>Partner</th>\n",
       "      <th>Dependents</th>\n",
       "      <th>tenure</th>\n",
       "      <th>PhoneService</th>\n",
       "      <th>MultipleLines</th>\n",
       "      <th>OnlineSecurity</th>\n",
       "      <th>OnlineBackup</th>\n",
       "      <th>DeviceProtection</th>\n",
       "      <th>...</th>\n",
       "      <th>MonthlyCharges</th>\n",
       "      <th>TotalCharges</th>\n",
       "      <th>Churn</th>\n",
       "      <th>InternetService_DSL</th>\n",
       "      <th>InternetService_Fiber optic</th>\n",
       "      <th>Contract_One year</th>\n",
       "      <th>Contract_Two year</th>\n",
       "      <th>PaymentMethod_Credit card (automatic)</th>\n",
       "      <th>PaymentMethod_Electronic check</th>\n",
       "      <th>PaymentMethod_Mailed check</th>\n",
       "    </tr>\n",
       "  </thead>\n",
       "  <tbody>\n",
       "    <tr>\n",
       "      <th>0</th>\n",
       "      <td>0</td>\n",
       "      <td>0</td>\n",
       "      <td>1</td>\n",
       "      <td>0</td>\n",
       "      <td>1</td>\n",
       "      <td>0</td>\n",
       "      <td>0</td>\n",
       "      <td>0</td>\n",
       "      <td>1</td>\n",
       "      <td>0</td>\n",
       "      <td>...</td>\n",
       "      <td>29.85</td>\n",
       "      <td>29.85</td>\n",
       "      <td>0</td>\n",
       "      <td>1</td>\n",
       "      <td>0</td>\n",
       "      <td>0</td>\n",
       "      <td>0</td>\n",
       "      <td>0</td>\n",
       "      <td>1</td>\n",
       "      <td>0</td>\n",
       "    </tr>\n",
       "    <tr>\n",
       "      <th>1</th>\n",
       "      <td>1</td>\n",
       "      <td>0</td>\n",
       "      <td>0</td>\n",
       "      <td>0</td>\n",
       "      <td>34</td>\n",
       "      <td>1</td>\n",
       "      <td>0</td>\n",
       "      <td>1</td>\n",
       "      <td>0</td>\n",
       "      <td>1</td>\n",
       "      <td>...</td>\n",
       "      <td>56.95</td>\n",
       "      <td>1889.50</td>\n",
       "      <td>0</td>\n",
       "      <td>1</td>\n",
       "      <td>0</td>\n",
       "      <td>1</td>\n",
       "      <td>0</td>\n",
       "      <td>0</td>\n",
       "      <td>0</td>\n",
       "      <td>1</td>\n",
       "    </tr>\n",
       "    <tr>\n",
       "      <th>2</th>\n",
       "      <td>1</td>\n",
       "      <td>0</td>\n",
       "      <td>0</td>\n",
       "      <td>0</td>\n",
       "      <td>2</td>\n",
       "      <td>1</td>\n",
       "      <td>0</td>\n",
       "      <td>1</td>\n",
       "      <td>1</td>\n",
       "      <td>0</td>\n",
       "      <td>...</td>\n",
       "      <td>53.85</td>\n",
       "      <td>108.15</td>\n",
       "      <td>1</td>\n",
       "      <td>1</td>\n",
       "      <td>0</td>\n",
       "      <td>0</td>\n",
       "      <td>0</td>\n",
       "      <td>0</td>\n",
       "      <td>0</td>\n",
       "      <td>1</td>\n",
       "    </tr>\n",
       "    <tr>\n",
       "      <th>3</th>\n",
       "      <td>1</td>\n",
       "      <td>0</td>\n",
       "      <td>0</td>\n",
       "      <td>0</td>\n",
       "      <td>45</td>\n",
       "      <td>0</td>\n",
       "      <td>0</td>\n",
       "      <td>1</td>\n",
       "      <td>0</td>\n",
       "      <td>1</td>\n",
       "      <td>...</td>\n",
       "      <td>42.30</td>\n",
       "      <td>1840.75</td>\n",
       "      <td>0</td>\n",
       "      <td>1</td>\n",
       "      <td>0</td>\n",
       "      <td>1</td>\n",
       "      <td>0</td>\n",
       "      <td>0</td>\n",
       "      <td>0</td>\n",
       "      <td>0</td>\n",
       "    </tr>\n",
       "    <tr>\n",
       "      <th>4</th>\n",
       "      <td>0</td>\n",
       "      <td>0</td>\n",
       "      <td>0</td>\n",
       "      <td>0</td>\n",
       "      <td>2</td>\n",
       "      <td>1</td>\n",
       "      <td>0</td>\n",
       "      <td>0</td>\n",
       "      <td>0</td>\n",
       "      <td>0</td>\n",
       "      <td>...</td>\n",
       "      <td>70.70</td>\n",
       "      <td>151.65</td>\n",
       "      <td>1</td>\n",
       "      <td>0</td>\n",
       "      <td>1</td>\n",
       "      <td>0</td>\n",
       "      <td>0</td>\n",
       "      <td>0</td>\n",
       "      <td>1</td>\n",
       "      <td>0</td>\n",
       "    </tr>\n",
       "  </tbody>\n",
       "</table>\n",
       "<p>5 rows × 24 columns</p>\n",
       "</div>"
      ],
      "text/plain": [
       "   gender  SeniorCitizen  Partner  Dependents  tenure  PhoneService   \n",
       "0       0              0        1           0       1             0  \\\n",
       "1       1              0        0           0      34             1   \n",
       "2       1              0        0           0       2             1   \n",
       "3       1              0        0           0      45             0   \n",
       "4       0              0        0           0       2             1   \n",
       "\n",
       "   MultipleLines  OnlineSecurity  OnlineBackup  DeviceProtection  ...   \n",
       "0              0               0             1                 0  ...  \\\n",
       "1              0               1             0                 1  ...   \n",
       "2              0               1             1                 0  ...   \n",
       "3              0               1             0                 1  ...   \n",
       "4              0               0             0                 0  ...   \n",
       "\n",
       "   MonthlyCharges  TotalCharges  Churn  InternetService_DSL   \n",
       "0           29.85         29.85      0                    1  \\\n",
       "1           56.95       1889.50      0                    1   \n",
       "2           53.85        108.15      1                    1   \n",
       "3           42.30       1840.75      0                    1   \n",
       "4           70.70        151.65      1                    0   \n",
       "\n",
       "   InternetService_Fiber optic  Contract_One year  Contract_Two year   \n",
       "0                            0                  0                  0  \\\n",
       "1                            0                  1                  0   \n",
       "2                            0                  0                  0   \n",
       "3                            0                  1                  0   \n",
       "4                            1                  0                  0   \n",
       "\n",
       "   PaymentMethod_Credit card (automatic)  PaymentMethod_Electronic check   \n",
       "0                                      0                               1  \\\n",
       "1                                      0                               0   \n",
       "2                                      0                               0   \n",
       "3                                      0                               0   \n",
       "4                                      0                               1   \n",
       "\n",
       "   PaymentMethod_Mailed check  \n",
       "0                           0  \n",
       "1                           1  \n",
       "2                           1  \n",
       "3                           0  \n",
       "4                           0  \n",
       "\n",
       "[5 rows x 24 columns]"
      ]
     },
     "execution_count": 21,
     "metadata": {},
     "output_type": "execute_result"
    }
   ],
   "source": [
    "final.head()"
   ]
  },
  {
   "cell_type": "code",
   "execution_count": 22,
   "id": "f90f7057",
   "metadata": {},
   "outputs": [],
   "source": [
    "tenure0 =  final[final[\"Churn\"]==0].tenure  "
   ]
  },
  {
   "cell_type": "code",
   "execution_count": 23,
   "id": "f993136f",
   "metadata": {},
   "outputs": [
    {
     "data": {
      "text/plain": [
       "0     1\n",
       "1    34\n",
       "3    45\n",
       "6    22\n",
       "7    10\n",
       "Name: tenure, dtype: int64"
      ]
     },
     "execution_count": 23,
     "metadata": {},
     "output_type": "execute_result"
    }
   ],
   "source": [
    "tenure0.head()"
   ]
  },
  {
   "cell_type": "code",
   "execution_count": 24,
   "id": "2eef01b0",
   "metadata": {},
   "outputs": [],
   "source": [
    "tenure1 =  final[final[\"Churn\"]==1].tenure    "
   ]
  },
  {
   "cell_type": "code",
   "execution_count": 25,
   "id": "115df1fc",
   "metadata": {},
   "outputs": [
    {
     "data": {
      "text/plain": [
       "<bound method NDFrame.head of 2        2\n",
       "4        2\n",
       "5        8\n",
       "8       28\n",
       "13      49\n",
       "        ..\n",
       "7021    12\n",
       "7026     9\n",
       "7032     1\n",
       "7034    67\n",
       "7041     4\n",
       "Name: tenure, Length: 1869, dtype: int64>"
      ]
     },
     "execution_count": 25,
     "metadata": {},
     "output_type": "execute_result"
    }
   ],
   "source": [
    "tenure1.head"
   ]
  },
  {
   "cell_type": "code",
   "execution_count": 26,
   "id": "7c214cec",
   "metadata": {},
   "outputs": [
    {
     "data": {
      "text/plain": [
       "0        29.85\n",
       "1        56.95\n",
       "3        42.30\n",
       "6        89.10\n",
       "7        29.75\n",
       "         ...  \n",
       "7037     21.15\n",
       "7038     84.80\n",
       "7039    103.20\n",
       "7040     29.60\n",
       "7042    105.65\n",
       "Name: MonthlyCharges, Length: 5163, dtype: float64"
      ]
     },
     "execution_count": 26,
     "metadata": {},
     "output_type": "execute_result"
    }
   ],
   "source": [
    "monthchg0 =  final[final[\"Churn\"]==0].MonthlyCharges    \n",
    "monthchg0"
   ]
  },
  {
   "cell_type": "code",
   "execution_count": 27,
   "id": "d8e0ce30",
   "metadata": {},
   "outputs": [
    {
     "data": {
      "text/plain": [
       "2        53.85\n",
       "4        70.70\n",
       "5        99.65\n",
       "8       104.80\n",
       "13      103.70\n",
       "         ...  \n",
       "7021     59.80\n",
       "7026     44.20\n",
       "7032     75.75\n",
       "7034    102.95\n",
       "7041     74.40\n",
       "Name: MonthlyCharges, Length: 1869, dtype: float64"
      ]
     },
     "execution_count": 27,
     "metadata": {},
     "output_type": "execute_result"
    }
   ],
   "source": [
    "monthchg1 =  final[final[\"Churn\"]==1].MonthlyCharges    \n",
    "monthchg1"
   ]
  },
  {
   "cell_type": "markdown",
   "id": "5b211047",
   "metadata": {},
   "source": [
    "# data visualization"
   ]
  },
  {
   "cell_type": "code",
   "execution_count": 28,
   "id": "361019f2",
   "metadata": {},
   "outputs": [
    {
     "data": {
      "image/png": "[encoded data removed]",
      "text/plain": [
       "<Figure size 640x480 with 1 Axes>"
      ]
     },
     "metadata": {},
     "output_type": "display_data"
    }
   ],
   "source": [
    "plt.hist([tenure0,tenure1],label=[\"No\",\"Yes\"])\n",
    "plt.xlabel(\"No of month\")\n",
    "plt.ylabel(\"No of customer\")\n",
    "plt.legend()\n",
    "plt.show()"
   ]
  },
  {
   "cell_type": "code",
   "execution_count": 29,
   "id": "f29035e8",
   "metadata": {},
   "outputs": [
    {
     "data": {
      "image/png": "[encoded data removed]",
      "text/plain": [
       "<Figure size 640x480 with 1 Axes>"
      ]
     },
     "metadata": {},
     "output_type": "display_data"
    }
   ],
   "source": [
    "plt.hist([monthchg0,monthchg1],label=[\"No\",\"Yes\"])\n",
    "plt.xlabel(\"No of month\")\n",
    "plt.ylabel(\"No of customer\")\n",
    "plt.legend()\n",
    "plt.show()"
   ]
  },
  {
   "cell_type": "code",
   "execution_count": 30,
   "id": "90008e7d",
   "metadata": {},
   "outputs": [],
   "source": [
    "X = final.drop(\"Churn\",axis=1)"
   ]
  },
  {
   "cell_type": "code",
   "execution_count": 31,
   "id": "e1ee4caf",
   "metadata": {},
   "outputs": [],
   "source": [
    "y = final.Churn"
   ]
  },
  {
   "cell_type": "markdown",
   "id": "b35a3ffe",
   "metadata": {},
   "source": [
    "# Scalling The dataset"
   ]
  },
  {
   "cell_type": "code",
   "execution_count": 32,
   "id": "be73e560",
   "metadata": {},
   "outputs": [],
   "source": [
    "from sklearn.preprocessing import MinMaxScaler\n",
    "scale = MinMaxScaler()\n",
    "scaleX = scale.fit_transform(X)"
   ]
  },
  {
   "cell_type": "markdown",
   "id": "dd84b517",
   "metadata": {},
   "source": [
    "# Model Bulding\n",
    "Preparing data for model building"
   ]
  },
  {
   "cell_type": "code",
   "execution_count": 33,
   "id": "be61103a",
   "metadata": {},
   "outputs": [],
   "source": [
    "from sklearn.model_selection import train_test_split\n",
    "X_train, X_test, y_train, y_test = train_test_split(X, y, test_size=0.20, random_state=42)"
   ]
  },
  {
   "cell_type": "code",
   "execution_count": 58,
   "id": "7db4b420",
   "metadata": {},
   "outputs": [],
   "source": [
    "model = keras.Sequential([\n",
    "    tf.keras.layers.Dense(50,input_shape=(23,),activation=\"relu\"),\n",
    "    tf.keras.layers.Dense(1,activation=\"sigmoid\")\n",
    "])"
   ]
  },
  {
   "cell_type": "code",
   "execution_count": 59,
   "id": "31cd0d6c",
   "metadata": {},
   "outputs": [],
   "source": [
    "model.compile(optimizer=\"adam\",loss=\"binary_crossentropy\",metrics=[\"Accuracy\"])"
   ]
  },
  {
   "cell_type": "code",
   "execution_count": null,
   "id": "e15b4d60",
   "metadata": {},
   "outputs": [
    {
     "name": "stdout",
     "output_type": "stream",
     "text": [
      "Epoch 1/100\n",
      "176/176 [==============================] - 1s 3ms/step - loss: 3315.8513 - Accuracy: 0.2658\n",
      "Epoch 2/100\n",
      "176/176 [==============================] - 1s 3ms/step - loss: 2407.5522 - Accuracy: 0.2658\n",
      "Epoch 3/100\n",
      "176/176 [==============================] - 1s 3ms/step - loss: 1780.7899 - Accuracy: 0.2658\n",
      "Epoch 4/100\n",
      "176/176 [==============================] - 1s 3ms/step - loss: 1253.0947 - Accuracy: 0.2658\n",
      "Epoch 5/100\n",
      "176/176 [==============================] - 1s 4ms/step - loss: 780.5864 - Accuracy: 0.2658\n",
      "Epoch 6/100\n",
      "176/176 [==============================] - 1s 4ms/step - loss: 345.8197 - Accuracy: 0.3138\n",
      "Epoch 7/100\n",
      "176/176 [==============================] - 1s 3ms/step - loss: 45.9184 - Accuracy: 0.5902\n",
      "Epoch 8/100\n",
      "176/176 [==============================] - 1s 3ms/step - loss: 19.0765 - Accuracy: 0.6992\n",
      "Epoch 9/100\n",
      "176/176 [==============================] - 1s 4ms/step - loss: 18.4315 - Accuracy: 0.7022\n",
      "Epoch 10/100\n",
      "176/176 [==============================] - 1s 4ms/step - loss: 17.7399 - Accuracy: 0.7040\n",
      "Epoch 11/100\n",
      "176/176 [==============================] - 1s 4ms/step - loss: 17.0092 - Accuracy: 0.7036\n",
      "Epoch 12/100\n",
      "176/176 [==============================] - 1s 4ms/step - loss: 16.2286 - Accuracy: 0.7065\n",
      "Epoch 13/100\n",
      "176/176 [==============================] - 1s 5ms/step - loss: 15.4202 - Accuracy: 0.7092\n",
      "Epoch 14/100\n",
      "176/176 [==============================] - 1s 4ms/step - loss: 14.5657 - Accuracy: 0.7092\n",
      "Epoch 15/100\n",
      "176/176 [==============================] - 1s 4ms/step - loss: 13.6661 - Accuracy: 0.7129\n",
      "Epoch 16/100\n",
      "176/176 [==============================] - 1s 4ms/step - loss: 12.7177 - Accuracy: 0.7168\n",
      "Epoch 17/100\n",
      "176/176 [==============================] - 1s 4ms/step - loss: 11.7839 - Accuracy: 0.7193\n",
      "Epoch 18/100\n",
      "176/176 [==============================] - 1s 4ms/step - loss: 10.8407 - Accuracy: 0.7234\n",
      "Epoch 19/100\n",
      "176/176 [==============================] - 1s 4ms/step - loss: 9.9047 - Accuracy: 0.7312\n",
      "Epoch 20/100\n",
      "176/176 [==============================] - 1s 4ms/step - loss: 8.9921 - Accuracy: 0.7371\n",
      "Epoch 21/100\n",
      "176/176 [==============================] - 1s 4ms/step - loss: 8.0969 - Accuracy: 0.7428\n",
      "Epoch 22/100\n",
      "176/176 [==============================] - 1s 4ms/step - loss: 7.2844 - Accuracy: 0.7479\n",
      "Epoch 23/100\n",
      "176/176 [==============================] - 1s 4ms/step - loss: 6.5370 - Accuracy: 0.7520\n",
      "Epoch 24/100\n",
      "176/176 [==============================] - 1s 4ms/step - loss: 5.9171 - Accuracy: 0.7579\n",
      "Epoch 25/100\n",
      "176/176 [==============================] - 1s 5ms/step - loss: 5.4483 - Accuracy: 0.7621\n",
      "Epoch 26/100\n",
      "176/176 [==============================] - 1s 5ms/step - loss: 5.0956 - Accuracy: 0.7664\n",
      "Epoch 27/100\n",
      "176/176 [==============================] - 1s 5ms/step - loss: 4.8362 - Accuracy: 0.7700\n",
      "Epoch 28/100\n",
      "176/176 [==============================] - 1s 5ms/step - loss: 4.6919 - Accuracy: 0.7685\n",
      "Epoch 29/100\n",
      "176/176 [==============================] - 1s 5ms/step - loss: 4.5797 - Accuracy: 0.7653\n",
      "Epoch 30/100\n",
      "176/176 [==============================] - 1s 4ms/step - loss: 4.5030 - Accuracy: 0.7662\n",
      "Epoch 31/100\n",
      "176/176 [==============================] - 1s 4ms/step - loss: 4.4491 - Accuracy: 0.7659\n",
      "Epoch 32/100\n",
      "176/176 [==============================] - 1s 4ms/step - loss: 4.4034 - Accuracy: 0.7659\n",
      "Epoch 33/100\n",
      "176/176 [==============================] - 1s 4ms/step - loss: 4.3593 - Accuracy: 0.7639\n",
      "Epoch 34/100\n",
      "176/176 [==============================] - 1s 4ms/step - loss: 4.2841 - Accuracy: 0.7657\n",
      "Epoch 35/100\n",
      "176/176 [==============================] - 1s 4ms/step - loss: 4.2692 - Accuracy: 0.7620\n",
      "Epoch 36/100\n",
      "176/176 [==============================] - 1s 4ms/step - loss: 4.1499 - Accuracy: 0.7644\n",
      "Epoch 37/100\n",
      "176/176 [==============================] - 1s 4ms/step - loss: 4.1303 - Accuracy: 0.7700\n",
      "Epoch 38/100\n",
      "176/176 [==============================] - 1s 5ms/step - loss: 4.1085 - Accuracy: 0.7632\n",
      "Epoch 39/100\n",
      "176/176 [==============================] - 1s 4ms/step - loss: 4.0011 - Accuracy: 0.7621\n",
      "Epoch 40/100\n",
      "176/176 [==============================] - 1s 5ms/step - loss: 4.0090 - Accuracy: 0.7644\n",
      "Epoch 41/100\n",
      "176/176 [==============================] - 1s 4ms/step - loss: 3.8959 - Accuracy: 0.7680\n",
      "Epoch 42/100\n",
      "176/176 [==============================] - 1s 4ms/step - loss: 3.8370 - Accuracy: 0.7668\n",
      "Epoch 43/100\n",
      "176/176 [==============================] - 1s 4ms/step - loss: 3.8044 - Accuracy: 0.7684\n",
      "Epoch 44/100\n",
      "176/176 [==============================] - 1s 4ms/step - loss: 3.7683 - Accuracy: 0.7687\n",
      "Epoch 45/100\n",
      "176/176 [==============================] - 1s 4ms/step - loss: 3.6754 - Accuracy: 0.7637\n",
      "Epoch 46/100\n",
      "176/176 [==============================] - 1s 5ms/step - loss: 3.6661 - Accuracy: 0.7678\n",
      "Epoch 47/100\n",
      "176/176 [==============================] - 1s 4ms/step - loss: 3.5868 - Accuracy: 0.7668\n",
      "Epoch 48/100\n",
      "176/176 [==============================] - 1s 3ms/step - loss: 3.5308 - Accuracy: 0.7637\n",
      "Epoch 49/100\n",
      "176/176 [==============================] - 1s 4ms/step - loss: 3.4344 - Accuracy: 0.7657\n",
      "Epoch 50/100\n",
      "176/176 [==============================] - 1s 4ms/step - loss: 3.3863 - Accuracy: 0.7666\n",
      "Epoch 51/100\n",
      "176/176 [==============================] - 1s 4ms/step - loss: 3.3121 - Accuracy: 0.7657\n",
      "Epoch 52/100\n",
      "176/176 [==============================] - 1s 4ms/step - loss: 3.3456 - Accuracy: 0.7673\n",
      "Epoch 53/100\n",
      "176/176 [==============================] - 1s 3ms/step - loss: 3.2075 - Accuracy: 0.7662\n",
      "Epoch 54/100\n",
      "176/176 [==============================] - 1s 3ms/step - loss: 3.2944 - Accuracy: 0.7641\n",
      "Epoch 55/100\n",
      "176/176 [==============================] - 1s 3ms/step - loss: 3.1401 - Accuracy: 0.7671\n",
      "Epoch 56/100\n",
      "176/176 [==============================] - 1s 3ms/step - loss: 3.0818 - Accuracy: 0.7669\n",
      "Epoch 57/100\n",
      "176/176 [==============================] - 1s 3ms/step - loss: 3.0558 - Accuracy: 0.7678\n",
      "Epoch 58/100\n",
      "176/176 [==============================] - 1s 3ms/step - loss: 3.0235 - Accuracy: 0.7668\n",
      "Epoch 59/100\n",
      "176/176 [==============================] - 1s 3ms/step - loss: 2.9194 - Accuracy: 0.7698\n",
      "Epoch 60/100\n",
      "176/176 [==============================] - 1s 3ms/step - loss: 2.8880 - Accuracy: 0.7660\n",
      "Epoch 61/100\n",
      "176/176 [==============================] - 1s 3ms/step - loss: 2.8416 - Accuracy: 0.7701\n",
      "Epoch 62/100\n",
      "176/176 [==============================] - 1s 3ms/step - loss: 2.7895 - Accuracy: 0.7696\n",
      "Epoch 63/100\n",
      "176/176 [==============================] - 1s 4ms/step - loss: 2.7368 - Accuracy: 0.7668\n",
      "Epoch 64/100\n",
      "176/176 [==============================] - 1s 6ms/step - loss: 2.7225 - Accuracy: 0.7678\n",
      "Epoch 65/100\n",
      "176/176 [==============================] - 1s 5ms/step - loss: 2.6944 - Accuracy: 0.7687\n",
      "Epoch 66/100\n",
      "176/176 [==============================] - 1s 5ms/step - loss: 2.6502 - Accuracy: 0.7717\n",
      "Epoch 67/100\n",
      "176/176 [==============================] - 1s 4ms/step - loss: 2.6014 - Accuracy: 0.7712\n",
      "Epoch 68/100\n",
      "176/176 [==============================] - 1s 5ms/step - loss: 2.5255 - Accuracy: 0.7710\n",
      "Epoch 69/100\n",
      "176/176 [==============================] - 1s 5ms/step - loss: 2.4861 - Accuracy: 0.7687\n",
      "Epoch 70/100\n",
      "176/176 [==============================] - 1s 4ms/step - loss: 2.4431 - Accuracy: 0.7714\n",
      "Epoch 71/100\n",
      "176/176 [==============================] - 1s 4ms/step - loss: 2.3997 - Accuracy: 0.7726\n",
      "Epoch 72/100\n",
      "176/176 [==============================] - 1s 4ms/step - loss: 2.3608 - Accuracy: 0.7726\n",
      "Epoch 73/100\n",
      "176/176 [==============================] - 1s 4ms/step - loss: 2.2932 - Accuracy: 0.7721\n",
      "Epoch 74/100\n",
      "176/176 [==============================] - 1s 4ms/step - loss: 2.2868 - Accuracy: 0.7701\n",
      "Epoch 75/100\n",
      "176/176 [==============================] - 1s 4ms/step - loss: 2.2154 - Accuracy: 0.7744\n",
      "Epoch 76/100\n",
      "176/176 [==============================] - 1s 4ms/step - loss: 2.2047 - Accuracy: 0.7717\n",
      "Epoch 77/100\n",
      "176/176 [==============================] - 1s 4ms/step - loss: 2.1515 - Accuracy: 0.7716\n",
      "Epoch 78/100\n",
      "176/176 [==============================] - 1s 5ms/step - loss: 2.1520 - Accuracy: 0.7716\n",
      "Epoch 79/100\n",
      "176/176 [==============================] - 1s 4ms/step - loss: 2.0741 - Accuracy: 0.7675\n",
      "Epoch 80/100\n",
      "176/176 [==============================] - 1s 4ms/step - loss: 2.0621 - Accuracy: 0.7732\n",
      "Epoch 81/100\n",
      "176/176 [==============================] - 1s 4ms/step - loss: 1.9964 - Accuracy: 0.7698\n",
      "Epoch 82/100\n",
      "176/176 [==============================] - 1s 4ms/step - loss: 1.9587 - Accuracy: 0.7675\n",
      "Epoch 83/100\n",
      "176/176 [==============================] - 1s 3ms/step - loss: 1.9427 - Accuracy: 0.7664\n",
      "Epoch 84/100\n",
      "146/176 [=======================>......] - ETA: 0s - loss: 1.8822 - Accuracy: 0.7680"
     ]
    }
   ],
   "source": [
    "model.fit(X_train,y_train,epochs=100)"
   ]
  },
  {
   "cell_type": "code",
   "execution_count": 61,
   "id": "64e45c4a",
   "metadata": {},
   "outputs": [
    {
     "name": "stdout",
     "output_type": "stream",
     "text": [
      "44/44 [==============================] - 0s 3ms/step - loss: 0.5586 - Accuracy: 0.7143\n"
     ]
    },
    {
     "data": {
      "text/plain": [
       "[0.5585605502128601, 0.7142857313156128]"
      ]
     },
     "execution_count": 61,
     "metadata": {},
     "output_type": "execute_result"
    }
   ],
   "source": [
    "model.evaluate(X_test,y_test)"
   ]
  },
  {
   "cell_type": "code",
   "execution_count": 62,
   "id": "9858cfda",
   "metadata": {},
   "outputs": [
    {
     "name": "stdout",
     "output_type": "stream",
     "text": [
      "44/44 [==============================] - 0s 3ms/step\n"
     ]
    }
   ],
   "source": [
    "predtion = model.predict(X_test)"
   ]
  },
  {
   "cell_type": "code",
   "execution_count": 72,
   "id": "78b049a6",
   "metadata": {},
   "outputs": [
    {
     "data": {
      "text/plain": [
       "array([[0.04211036],\n",
       "       [0.31467757],\n",
       "       [0.8701812 ],\n",
       "       ...,\n",
       "       [0.15153283],\n",
       "       [0.7555476 ],\n",
       "       [0.0156763 ]], dtype=float32)"
      ]
     },
     "execution_count": 72,
     "metadata": {},
     "output_type": "execute_result"
    }
   ],
   "source": [
    "predtion"
   ]
  },
  {
   "cell_type": "code",
   "execution_count": 73,
   "id": "31ba5838",
   "metadata": {
    "scrolled": false
   },
   "outputs": [],
   "source": [
    "from sklearn.metrics import confusion_matrix\n",
    "cm = confusion_matrix(predtion.round(),y_test)"
   ]
  },
  {
   "cell_type": "code",
   "execution_count": 75,
   "id": "7a6062d6",
   "metadata": {},
   "outputs": [
    {
     "data": {
      "text/plain": [
       "<Axes: >"
      ]
     },
     "execution_count": 75,
     "metadata": {},
     "output_type": "execute_result"
    },
    {
     "data": {
      "image/png": "[encoded data removed]",
      "text/plain": [
       "<Figure size 640x480 with 2 Axes>"
      ]
     },
     "metadata": {},
     "output_type": "display_data"
    }
   ],
   "source": [
    "sns.heatmap(cm,annot=True,fmt=\"d\")"
   ]
  },
  {
   "cell_type": "markdown",
   "id": "a3337ccd",
   "metadata": {},
   "source": [
    "# using smote method"
   ]
  },
  {
   "cell_type": "code",
   "execution_count": 76,
   "id": "713d4e47",
   "metadata": {},
   "outputs": [],
   "source": [
    "from imblearn.over_sampling import SMOTE"
   ]
  },
  {
   "cell_type": "code",
   "execution_count": 77,
   "id": "379944fa",
   "metadata": {},
   "outputs": [],
   "source": [
    "smote = SMOTE()"
   ]
  },
  {
   "cell_type": "code",
   "execution_count": 78,
   "id": "27201901",
   "metadata": {},
   "outputs": [
    {
     "data": {
      "text/html": [
       "<div>\n",
       "<style scoped>\n",
       "    .dataframe tbody tr th:only-of-type {\n",
       "        vertical-align: middle;\n",
       "    }\n",
       "\n",
       "    .dataframe tbody tr th {\n",
       "        vertical-align: top;\n",
       "    }\n",
       "\n",
       "    .dataframe thead th {\n",
       "        text-align: right;\n",
       "    }\n",
       "</style>\n",
       "<table border=\"1\" class=\"dataframe\">\n",
       "  <thead>\n",
       "    <tr style=\"text-align: right;\">\n",
       "      <th></th>\n",
       "      <th>gender</th>\n",
       "      <th>SeniorCitizen</th>\n",
       "      <th>Partner</th>\n",
       "      <th>Dependents</th>\n",
       "      <th>tenure</th>\n",
       "      <th>PhoneService</th>\n",
       "      <th>MultipleLines</th>\n",
       "      <th>OnlineSecurity</th>\n",
       "      <th>OnlineBackup</th>\n",
       "      <th>DeviceProtection</th>\n",
       "      <th>...</th>\n",
       "      <th>MonthlyCharges</th>\n",
       "      <th>TotalCharges</th>\n",
       "      <th>Churn</th>\n",
       "      <th>InternetService_DSL</th>\n",
       "      <th>InternetService_Fiber optic</th>\n",
       "      <th>Contract_One year</th>\n",
       "      <th>Contract_Two year</th>\n",
       "      <th>PaymentMethod_Credit card (automatic)</th>\n",
       "      <th>PaymentMethod_Electronic check</th>\n",
       "      <th>PaymentMethod_Mailed check</th>\n",
       "    </tr>\n",
       "  </thead>\n",
       "  <tbody>\n",
       "    <tr>\n",
       "      <th>0</th>\n",
       "      <td>0</td>\n",
       "      <td>0</td>\n",
       "      <td>1</td>\n",
       "      <td>0</td>\n",
       "      <td>1</td>\n",
       "      <td>0</td>\n",
       "      <td>0</td>\n",
       "      <td>0</td>\n",
       "      <td>1</td>\n",
       "      <td>0</td>\n",
       "      <td>...</td>\n",
       "      <td>29.85</td>\n",
       "      <td>29.85</td>\n",
       "      <td>0</td>\n",
       "      <td>1</td>\n",
       "      <td>0</td>\n",
       "      <td>0</td>\n",
       "      <td>0</td>\n",
       "      <td>0</td>\n",
       "      <td>1</td>\n",
       "      <td>0</td>\n",
       "    </tr>\n",
       "    <tr>\n",
       "      <th>1</th>\n",
       "      <td>1</td>\n",
       "      <td>0</td>\n",
       "      <td>0</td>\n",
       "      <td>0</td>\n",
       "      <td>34</td>\n",
       "      <td>1</td>\n",
       "      <td>0</td>\n",
       "      <td>1</td>\n",
       "      <td>0</td>\n",
       "      <td>1</td>\n",
       "      <td>...</td>\n",
       "      <td>56.95</td>\n",
       "      <td>1889.50</td>\n",
       "      <td>0</td>\n",
       "      <td>1</td>\n",
       "      <td>0</td>\n",
       "      <td>1</td>\n",
       "      <td>0</td>\n",
       "      <td>0</td>\n",
       "      <td>0</td>\n",
       "      <td>1</td>\n",
       "    </tr>\n",
       "    <tr>\n",
       "      <th>2</th>\n",
       "      <td>1</td>\n",
       "      <td>0</td>\n",
       "      <td>0</td>\n",
       "      <td>0</td>\n",
       "      <td>2</td>\n",
       "      <td>1</td>\n",
       "      <td>0</td>\n",
       "      <td>1</td>\n",
       "      <td>1</td>\n",
       "      <td>0</td>\n",
       "      <td>...</td>\n",
       "      <td>53.85</td>\n",
       "      <td>108.15</td>\n",
       "      <td>1</td>\n",
       "      <td>1</td>\n",
       "      <td>0</td>\n",
       "      <td>0</td>\n",
       "      <td>0</td>\n",
       "      <td>0</td>\n",
       "      <td>0</td>\n",
       "      <td>1</td>\n",
       "    </tr>\n",
       "    <tr>\n",
       "      <th>3</th>\n",
       "      <td>1</td>\n",
       "      <td>0</td>\n",
       "      <td>0</td>\n",
       "      <td>0</td>\n",
       "      <td>45</td>\n",
       "      <td>0</td>\n",
       "      <td>0</td>\n",
       "      <td>1</td>\n",
       "      <td>0</td>\n",
       "      <td>1</td>\n",
       "      <td>...</td>\n",
       "      <td>42.30</td>\n",
       "      <td>1840.75</td>\n",
       "      <td>0</td>\n",
       "      <td>1</td>\n",
       "      <td>0</td>\n",
       "      <td>1</td>\n",
       "      <td>0</td>\n",
       "      <td>0</td>\n",
       "      <td>0</td>\n",
       "      <td>0</td>\n",
       "    </tr>\n",
       "    <tr>\n",
       "      <th>4</th>\n",
       "      <td>0</td>\n",
       "      <td>0</td>\n",
       "      <td>0</td>\n",
       "      <td>0</td>\n",
       "      <td>2</td>\n",
       "      <td>1</td>\n",
       "      <td>0</td>\n",
       "      <td>0</td>\n",
       "      <td>0</td>\n",
       "      <td>0</td>\n",
       "      <td>...</td>\n",
       "      <td>70.70</td>\n",
       "      <td>151.65</td>\n",
       "      <td>1</td>\n",
       "      <td>0</td>\n",
       "      <td>1</td>\n",
       "      <td>0</td>\n",
       "      <td>0</td>\n",
       "      <td>0</td>\n",
       "      <td>1</td>\n",
       "      <td>0</td>\n",
       "    </tr>\n",
       "  </tbody>\n",
       "</table>\n",
       "<p>5 rows × 24 columns</p>\n",
       "</div>"
      ],
      "text/plain": [
       "   gender  SeniorCitizen  Partner  Dependents  tenure  PhoneService   \n",
       "0       0              0        1           0       1             0  \\\n",
       "1       1              0        0           0      34             1   \n",
       "2       1              0        0           0       2             1   \n",
       "3       1              0        0           0      45             0   \n",
       "4       0              0        0           0       2             1   \n",
       "\n",
       "   MultipleLines  OnlineSecurity  OnlineBackup  DeviceProtection  ...   \n",
       "0              0               0             1                 0  ...  \\\n",
       "1              0               1             0                 1  ...   \n",
       "2              0               1             1                 0  ...   \n",
       "3              0               1             0                 1  ...   \n",
       "4              0               0             0                 0  ...   \n",
       "\n",
       "   MonthlyCharges  TotalCharges  Churn  InternetService_DSL   \n",
       "0           29.85         29.85      0                    1  \\\n",
       "1           56.95       1889.50      0                    1   \n",
       "2           53.85        108.15      1                    1   \n",
       "3           42.30       1840.75      0                    1   \n",
       "4           70.70        151.65      1                    0   \n",
       "\n",
       "   InternetService_Fiber optic  Contract_One year  Contract_Two year   \n",
       "0                            0                  0                  0  \\\n",
       "1                            0                  1                  0   \n",
       "2                            0                  0                  0   \n",
       "3                            0                  1                  0   \n",
       "4                            1                  0                  0   \n",
       "\n",
       "   PaymentMethod_Credit card (automatic)  PaymentMethod_Electronic check   \n",
       "0                                      0                               1  \\\n",
       "1                                      0                               0   \n",
       "2                                      0                               0   \n",
       "3                                      0                               0   \n",
       "4                                      0                               1   \n",
       "\n",
       "   PaymentMethod_Mailed check  \n",
       "0                           0  \n",
       "1                           1  \n",
       "2                           1  \n",
       "3                           0  \n",
       "4                           0  \n",
       "\n",
       "[5 rows x 24 columns]"
      ]
     },
     "execution_count": 78,
     "metadata": {},
     "output_type": "execute_result"
    }
   ],
   "source": [
    "final.head()"
   ]
  },
  {
   "cell_type": "code",
   "execution_count": 79,
   "id": "d12de584",
   "metadata": {},
   "outputs": [],
   "source": [
    "X = final.drop(\"Churn\",axis=1)"
   ]
  },
  {
   "cell_type": "code",
   "execution_count": 80,
   "id": "659a6736",
   "metadata": {},
   "outputs": [],
   "source": [
    "y = final.Churn"
   ]
  },
  {
   "cell_type": "code",
   "execution_count": 81,
   "id": "8513ad36",
   "metadata": {},
   "outputs": [],
   "source": [
    "smoteX, smotey= smote.fit_resample(X,y)"
   ]
  },
  {
   "cell_type": "code",
   "execution_count": 82,
   "id": "496089e8",
   "metadata": {},
   "outputs": [
    {
     "data": {
      "text/plain": [
       "(10326, 23)"
      ]
     },
     "execution_count": 82,
     "metadata": {},
     "output_type": "execute_result"
    }
   ],
   "source": [
    "smoteX.shape"
   ]
  },
  {
   "cell_type": "code",
   "execution_count": 83,
   "id": "f935e6f6",
   "metadata": {},
   "outputs": [
    {
     "data": {
      "text/plain": [
       "(10326,)"
      ]
     },
     "execution_count": 83,
     "metadata": {},
     "output_type": "execute_result"
    }
   ],
   "source": [
    "smotey.shape"
   ]
  },
  {
   "cell_type": "markdown",
   "id": "e49cc083",
   "metadata": {},
   "source": [
    "# Scalling"
   ]
  },
  {
   "cell_type": "code",
   "execution_count": 84,
   "id": "3f301b44",
   "metadata": {},
   "outputs": [],
   "source": [
    "smoteX = scale.fit_transform(smoteX)"
   ]
  },
  {
   "cell_type": "markdown",
   "id": "82b8d2dd",
   "metadata": {},
   "source": [
    "# model building "
   ]
  },
  {
   "cell_type": "code",
   "execution_count": 85,
   "id": "d9b435fe",
   "metadata": {},
   "outputs": [],
   "source": [
    "model = keras.Sequential([\n",
    "    tf.keras.layers.Dense(1,input_shape=(23,),activation=\"sigmoid\")\n",
    "])"
   ]
  },
  {
   "cell_type": "code",
   "execution_count": 86,
   "id": "71670225",
   "metadata": {},
   "outputs": [],
   "source": [
    "model.compile(optimizer=\"adam\",loss=\"binary_crossentropy\",metrics=[\"Accuracy\"])"
   ]
  },
  {
   "cell_type": "code",
   "execution_count": 87,
   "id": "59884448",
   "metadata": {},
   "outputs": [
    {
     "name": "stdout",
     "output_type": "stream",
     "text": [
      "Epoch 1/100\n",
      "323/323 [==============================] - 2s 3ms/step - loss: 0.6380 - Accuracy: 0.6430\n",
      "Epoch 2/100\n",
      "323/323 [==============================] - 1s 4ms/step - loss: 0.5338 - Accuracy: 0.7589\n",
      "Epoch 3/100\n",
      "323/323 [==============================] - 1s 4ms/step - loss: 0.4898 - Accuracy: 0.7819\n",
      "Epoch 4/100\n",
      "323/323 [==============================] - 1s 4ms/step - loss: 0.4676 - Accuracy: 0.7927\n",
      "Epoch 5/100\n",
      "323/323 [==============================] - 1s 4ms/step - loss: 0.4542 - Accuracy: 0.7989\n",
      "Epoch 6/100\n",
      "323/323 [==============================] - 1s 4ms/step - loss: 0.4450 - Accuracy: 0.8038\n",
      "Epoch 7/100\n",
      "323/323 [==============================] - 1s 3ms/step - loss: 0.4383 - Accuracy: 0.8052\n",
      "Epoch 8/100\n",
      "323/323 [==============================] - 1s 4ms/step - loss: 0.4328 - Accuracy: 0.8080\n",
      "Epoch 9/100\n",
      "323/323 [==============================] - 1s 4ms/step - loss: 0.4288 - Accuracy: 0.8111\n",
      "Epoch 10/100\n",
      "323/323 [==============================] - 1s 4ms/step - loss: 0.4252 - Accuracy: 0.8122\n",
      "Epoch 11/100\n",
      "323/323 [==============================] - 1s 4ms/step - loss: 0.4224 - Accuracy: 0.8149\n",
      "Epoch 12/100\n",
      "323/323 [==============================] - 1s 4ms/step - loss: 0.4199 - Accuracy: 0.8140\n",
      "Epoch 13/100\n",
      "323/323 [==============================] - 1s 4ms/step - loss: 0.4179 - Accuracy: 0.8171\n",
      "Epoch 14/100\n",
      "323/323 [==============================] - 1s 4ms/step - loss: 0.4161 - Accuracy: 0.8185\n",
      "Epoch 15/100\n",
      "323/323 [==============================] - 1s 3ms/step - loss: 0.4146 - Accuracy: 0.8195\n",
      "Epoch 16/100\n",
      "323/323 [==============================] - 1s 3ms/step - loss: 0.4133 - Accuracy: 0.8183\n",
      "Epoch 17/100\n",
      "323/323 [==============================] - 1s 4ms/step - loss: 0.4121 - Accuracy: 0.8200\n",
      "Epoch 18/100\n",
      "323/323 [==============================] - 1s 4ms/step - loss: 0.4109 - Accuracy: 0.8200\n",
      "Epoch 19/100\n",
      "323/323 [==============================] - 2s 5ms/step - loss: 0.4101 - Accuracy: 0.8191\n",
      "Epoch 20/100\n",
      "323/323 [==============================] - 2s 5ms/step - loss: 0.4092 - Accuracy: 0.8184\n",
      "Epoch 21/100\n",
      "323/323 [==============================] - 2s 5ms/step - loss: 0.4085 - Accuracy: 0.8195\n",
      "Epoch 22/100\n",
      "323/323 [==============================] - 1s 4ms/step - loss: 0.4077 - Accuracy: 0.8175\n",
      "Epoch 23/100\n",
      "323/323 [==============================] - 1s 4ms/step - loss: 0.4071 - Accuracy: 0.8186\n",
      "Epoch 24/100\n",
      "323/323 [==============================] - 2s 5ms/step - loss: 0.4064 - Accuracy: 0.8183\n",
      "Epoch 25/100\n",
      "323/323 [==============================] - 1s 4ms/step - loss: 0.4059 - Accuracy: 0.8182\n",
      "Epoch 26/100\n",
      "323/323 [==============================] - 1s 4ms/step - loss: 0.4053 - Accuracy: 0.8188\n",
      "Epoch 27/100\n",
      "323/323 [==============================] - 1s 4ms/step - loss: 0.4048 - Accuracy: 0.8187\n",
      "Epoch 28/100\n",
      "323/323 [==============================] - 1s 5ms/step - loss: 0.4044 - Accuracy: 0.8192\n",
      "Epoch 29/100\n",
      "323/323 [==============================] - 1s 4ms/step - loss: 0.4039 - Accuracy: 0.8174\n",
      "Epoch 30/100\n",
      "323/323 [==============================] - 1s 3ms/step - loss: 0.4035 - Accuracy: 0.8202\n",
      "Epoch 31/100\n",
      "323/323 [==============================] - 1s 3ms/step - loss: 0.4031 - Accuracy: 0.8194\n",
      "Epoch 32/100\n",
      "323/323 [==============================] - 1s 3ms/step - loss: 0.4026 - Accuracy: 0.8194\n",
      "Epoch 33/100\n",
      "323/323 [==============================] - 1s 3ms/step - loss: 0.4023 - Accuracy: 0.8186\n",
      "Epoch 34/100\n",
      "323/323 [==============================] - 1s 3ms/step - loss: 0.4019 - Accuracy: 0.8196\n",
      "Epoch 35/100\n",
      "323/323 [==============================] - 1s 3ms/step - loss: 0.4015 - Accuracy: 0.8195\n",
      "Epoch 36/100\n",
      "323/323 [==============================] - 1s 4ms/step - loss: 0.4011 - Accuracy: 0.8187\n",
      "Epoch 37/100\n",
      "323/323 [==============================] - 1s 3ms/step - loss: 0.4008 - Accuracy: 0.8196\n",
      "Epoch 38/100\n",
      "323/323 [==============================] - 1s 3ms/step - loss: 0.4002 - Accuracy: 0.8194\n",
      "Epoch 39/100\n",
      "323/323 [==============================] - 1s 3ms/step - loss: 0.4001 - Accuracy: 0.8193\n",
      "Epoch 40/100\n",
      "323/323 [==============================] - 1s 5ms/step - loss: 0.3998 - Accuracy: 0.8196\n",
      "Epoch 41/100\n",
      "323/323 [==============================] - 2s 5ms/step - loss: 0.3993 - Accuracy: 0.8198\n",
      "Epoch 42/100\n",
      "323/323 [==============================] - 1s 4ms/step - loss: 0.3990 - Accuracy: 0.8205\n",
      "Epoch 43/100\n",
      "323/323 [==============================] - 2s 5ms/step - loss: 0.3988 - Accuracy: 0.8202\n",
      "Epoch 44/100\n",
      "323/323 [==============================] - 1s 5ms/step - loss: 0.3984 - Accuracy: 0.8199\n",
      "Epoch 45/100\n",
      "323/323 [==============================] - 2s 5ms/step - loss: 0.3982 - Accuracy: 0.8204\n",
      "Epoch 46/100\n",
      "323/323 [==============================] - 1s 4ms/step - loss: 0.3978 - Accuracy: 0.8197\n",
      "Epoch 47/100\n",
      "323/323 [==============================] - 1s 4ms/step - loss: 0.3975 - Accuracy: 0.8191\n",
      "Epoch 48/100\n",
      "323/323 [==============================] - 1s 3ms/step - loss: 0.3973 - Accuracy: 0.8192\n",
      "Epoch 49/100\n",
      "323/323 [==============================] - 1s 3ms/step - loss: 0.3970 - Accuracy: 0.8192\n",
      "Epoch 50/100\n",
      "323/323 [==============================] - 1s 3ms/step - loss: 0.3968 - Accuracy: 0.8201\n",
      "Epoch 51/100\n",
      "323/323 [==============================] - 1s 3ms/step - loss: 0.3965 - Accuracy: 0.8197\n",
      "Epoch 52/100\n",
      "323/323 [==============================] - 1s 4ms/step - loss: 0.3962 - Accuracy: 0.8199\n",
      "Epoch 53/100\n",
      "323/323 [==============================] - 1s 3ms/step - loss: 0.3959 - Accuracy: 0.8195\n",
      "Epoch 54/100\n",
      "323/323 [==============================] - 1s 3ms/step - loss: 0.3957 - Accuracy: 0.8206\n",
      "Epoch 55/100\n",
      "323/323 [==============================] - 1s 4ms/step - loss: 0.3955 - Accuracy: 0.8198\n",
      "Epoch 56/100\n",
      "323/323 [==============================] - 1s 4ms/step - loss: 0.3952 - Accuracy: 0.8203\n",
      "Epoch 57/100\n",
      "323/323 [==============================] - 1s 3ms/step - loss: 0.3947 - Accuracy: 0.8202\n",
      "Epoch 58/100\n",
      "323/323 [==============================] - 1s 3ms/step - loss: 0.3949 - Accuracy: 0.8205\n",
      "Epoch 59/100\n",
      "323/323 [==============================] - 1s 3ms/step - loss: 0.3944 - Accuracy: 0.8209\n",
      "Epoch 60/100\n",
      "323/323 [==============================] - 1s 3ms/step - loss: 0.3942 - Accuracy: 0.8206\n",
      "Epoch 61/100\n",
      "323/323 [==============================] - 1s 3ms/step - loss: 0.3940 - Accuracy: 0.8212\n",
      "Epoch 62/100\n",
      "323/323 [==============================] - 1s 3ms/step - loss: 0.3937 - Accuracy: 0.8209\n",
      "Epoch 63/100\n",
      "323/323 [==============================] - 1s 3ms/step - loss: 0.3935 - Accuracy: 0.8218\n",
      "Epoch 64/100\n",
      "323/323 [==============================] - 1s 4ms/step - loss: 0.3933 - Accuracy: 0.8216\n",
      "Epoch 65/100\n",
      "323/323 [==============================] - 1s 3ms/step - loss: 0.3931 - Accuracy: 0.8221\n",
      "Epoch 66/100\n",
      "323/323 [==============================] - 1s 3ms/step - loss: 0.3928 - Accuracy: 0.8212\n",
      "Epoch 67/100\n",
      "323/323 [==============================] - 1s 4ms/step - loss: 0.3926 - Accuracy: 0.8218\n",
      "Epoch 68/100\n",
      "323/323 [==============================] - 1s 4ms/step - loss: 0.3925 - Accuracy: 0.8233\n",
      "Epoch 69/100\n",
      "323/323 [==============================] - 1s 4ms/step - loss: 0.3922 - Accuracy: 0.8218\n",
      "Epoch 70/100\n",
      "323/323 [==============================] - 1s 4ms/step - loss: 0.3919 - Accuracy: 0.8219\n",
      "Epoch 71/100\n",
      "323/323 [==============================] - 1s 4ms/step - loss: 0.3918 - Accuracy: 0.8222\n",
      "Epoch 72/100\n",
      "323/323 [==============================] - 1s 3ms/step - loss: 0.3916 - Accuracy: 0.8229\n",
      "Epoch 73/100\n",
      "323/323 [==============================] - 1s 4ms/step - loss: 0.3913 - Accuracy: 0.8235\n",
      "Epoch 74/100\n",
      "323/323 [==============================] - 1s 4ms/step - loss: 0.3912 - Accuracy: 0.8234\n",
      "Epoch 75/100\n",
      "323/323 [==============================] - 1s 4ms/step - loss: 0.3910 - Accuracy: 0.8223\n",
      "Epoch 76/100\n",
      "323/323 [==============================] - 1s 4ms/step - loss: 0.3907 - Accuracy: 0.8236\n",
      "Epoch 77/100\n",
      "323/323 [==============================] - 1s 4ms/step - loss: 0.3906 - Accuracy: 0.8216\n",
      "Epoch 78/100\n",
      "323/323 [==============================] - 1s 3ms/step - loss: 0.3903 - Accuracy: 0.8230\n",
      "Epoch 79/100\n",
      "323/323 [==============================] - 1s 4ms/step - loss: 0.3903 - Accuracy: 0.8229\n",
      "Epoch 80/100\n",
      "323/323 [==============================] - 1s 5ms/step - loss: 0.3900 - Accuracy: 0.8232\n",
      "Epoch 81/100\n",
      "323/323 [==============================] - 1s 4ms/step - loss: 0.3898 - Accuracy: 0.8234\n",
      "Epoch 82/100\n",
      "323/323 [==============================] - 1s 4ms/step - loss: 0.3896 - Accuracy: 0.8245\n",
      "Epoch 83/100\n",
      "323/323 [==============================] - 1s 3ms/step - loss: 0.3894 - Accuracy: 0.8232\n",
      "Epoch 84/100\n",
      "323/323 [==============================] - 1s 4ms/step - loss: 0.3892 - Accuracy: 0.8239\n",
      "Epoch 85/100\n",
      "323/323 [==============================] - 1s 4ms/step - loss: 0.3892 - Accuracy: 0.8237\n",
      "Epoch 86/100\n",
      "323/323 [==============================] - 1s 4ms/step - loss: 0.3889 - Accuracy: 0.8238\n",
      "Epoch 87/100\n",
      "323/323 [==============================] - 1s 3ms/step - loss: 0.3887 - Accuracy: 0.8238\n",
      "Epoch 88/100\n",
      "323/323 [==============================] - 1s 4ms/step - loss: 0.3885 - Accuracy: 0.8241\n",
      "Epoch 89/100\n",
      "323/323 [==============================] - 1s 4ms/step - loss: 0.3884 - Accuracy: 0.8247\n",
      "Epoch 90/100\n",
      "323/323 [==============================] - 1s 3ms/step - loss: 0.3883 - Accuracy: 0.8242\n",
      "Epoch 91/100\n",
      "323/323 [==============================] - 1s 3ms/step - loss: 0.3881 - Accuracy: 0.8240\n",
      "Epoch 92/100\n",
      "323/323 [==============================] - 1s 3ms/step - loss: 0.3879 - Accuracy: 0.8247\n",
      "Epoch 93/100\n",
      "323/323 [==============================] - 1s 4ms/step - loss: 0.3878 - Accuracy: 0.8244\n",
      "Epoch 94/100\n",
      "323/323 [==============================] - 1s 4ms/step - loss: 0.3876 - Accuracy: 0.8233\n",
      "Epoch 95/100\n",
      "323/323 [==============================] - 1s 4ms/step - loss: 0.3874 - Accuracy: 0.8249\n",
      "Epoch 96/100\n",
      "323/323 [==============================] - 1s 4ms/step - loss: 0.3873 - Accuracy: 0.8242\n",
      "Epoch 97/100\n",
      "323/323 [==============================] - 1s 4ms/step - loss: 0.3871 - Accuracy: 0.8239\n",
      "Epoch 98/100\n",
      "323/323 [==============================] - 1s 3ms/step - loss: 0.3869 - Accuracy: 0.8241\n",
      "Epoch 99/100\n",
      "323/323 [==============================] - 1s 4ms/step - loss: 0.3868 - Accuracy: 0.8247\n",
      "Epoch 100/100\n",
      "323/323 [==============================] - 1s 5ms/step - loss: 0.3865 - Accuracy: 0.8244\n"
     ]
    },
    {
     "data": {
      "text/plain": [
       "<keras.src.callbacks.History at 0x1ce34f2d160>"
      ]
     },
     "execution_count": 87,
     "metadata": {},
     "output_type": "execute_result"
    }
   ],
   "source": [
    "model.fit(smoteX,smotey,epochs=100)"
   ]
  },
  {
   "cell_type": "code",
   "execution_count": 88,
   "id": "d19f8fd7",
   "metadata": {},
   "outputs": [
    {
     "name": "stdout",
     "output_type": "stream",
     "text": [
      "323/323 [==============================] - 2s 4ms/step - loss: 0.3862 - Accuracy: 0.8249\n"
     ]
    },
    {
     "data": {
      "text/plain": [
       "[0.3862322270870209, 0.8249080181121826]"
      ]
     },
     "execution_count": 88,
     "metadata": {},
     "output_type": "execute_result"
    }
   ],
   "source": [
    "model.evaluate(smoteX,smotey)"
   ]
  },
  {
   "cell_type": "code",
   "execution_count": 89,
   "id": "e5d3eb9c",
   "metadata": {},
   "outputs": [
    {
     "name": "stdout",
     "output_type": "stream",
     "text": [
      "323/323 [==============================] - 1s 3ms/step\n"
     ]
    }
   ],
   "source": [
    "pred = model.predict(smoteX)"
   ]
  },
  {
   "cell_type": "code",
   "execution_count": 90,
   "id": "96396fd8",
   "metadata": {},
   "outputs": [
    {
     "data": {
      "text/plain": [
       "array([[0.6640507 ],\n",
       "       [0.06241016],\n",
       "       [0.26535183],\n",
       "       ...,\n",
       "       [0.8044141 ],\n",
       "       [0.9293031 ],\n",
       "       [0.68807423]], dtype=float32)"
      ]
     },
     "execution_count": 90,
     "metadata": {},
     "output_type": "execute_result"
    }
   ],
   "source": [
    "pred"
   ]
  },
  {
   "cell_type": "code",
   "execution_count": 97,
   "id": "723e5551",
   "metadata": {},
   "outputs": [],
   "source": [
    "from sklearn.metrics import confusion_matrix\n",
    "cm = confusion_matrix(pred.round(),smotey)"
   ]
  },
  {
   "cell_type": "code",
   "execution_count": 98,
   "id": "9bb30c53",
   "metadata": {},
   "outputs": [
    {
     "data": {
      "text/plain": [
       "<Axes: >"
      ]
     },
     "execution_count": 98,
     "metadata": {},
     "output_type": "execute_result"
    },
    {
     "data": {
      "image/png": "[encoded data removed]",
      "text/plain": [
       "<Figure size 640x480 with 2 Axes>"
      ]
     },
     "metadata": {},
     "output_type": "display_data"
    }
   ],
   "source": [
    "sns.heatmap(cm,annot=True,fmt=\"d\")"
   ]
  },
  {
   "cell_type": "code",
   "execution_count": null,
   "id": "8f887d6c",
   "metadata": {},
   "outputs": [],
   "source": []
  }
 ],
 "metadata": {
  "kernelspec": {
   "display_name": "Python 3 (ipykernel)",
   "language": "python",
   "name": "python3"
  },
  "language_info": {
   "codemirror_mode": {
    "name": "ipython",
    "version": 3
   },
   "file_extension": ".py",
   "mimetype": "text/x-python",
   "name": "python",
   "nbconvert_exporter": "python",
   "pygments_lexer": "ipython3",
   "version": "3.8.2"
  }
 },
 "nbformat": 4,
 "nbformat_minor": 5
}
